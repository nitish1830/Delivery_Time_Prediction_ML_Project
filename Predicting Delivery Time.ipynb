{
 "cells": [
  {
   "cell_type": "code",
   "execution_count": 3,
   "id": "c5683357",
   "metadata": {},
   "outputs": [],
   "source": [
    "import pandas as pd\n",
    "import numpy as np\n",
    "import matplotlib.pyplot as plt\n",
    "import seaborn as sns"
   ]
  },
  {
   "cell_type": "code",
   "execution_count": 4,
   "id": "6519097f",
   "metadata": {},
   "outputs": [],
   "source": [
    "train = pd.read_excel('Data_Train.xlsx')"
   ]
  },
  {
   "cell_type": "code",
   "execution_count": 5,
   "id": "4d91b24c",
   "metadata": {},
   "outputs": [],
   "source": [
    "test = pd.read_excel('Data_Test.xlsx')"
   ]
  },
  {
   "cell_type": "code",
   "execution_count": 6,
   "id": "ecad0c74",
   "metadata": {},
   "outputs": [
    {
     "data": {
      "text/html": [
       "<div>\n",
       "<style scoped>\n",
       "    .dataframe tbody tr th:only-of-type {\n",
       "        vertical-align: middle;\n",
       "    }\n",
       "\n",
       "    .dataframe tbody tr th {\n",
       "        vertical-align: top;\n",
       "    }\n",
       "\n",
       "    .dataframe thead th {\n",
       "        text-align: right;\n",
       "    }\n",
       "</style>\n",
       "<table border=\"1\" class=\"dataframe\">\n",
       "  <thead>\n",
       "    <tr style=\"text-align: right;\">\n",
       "      <th></th>\n",
       "      <th>Restaurant</th>\n",
       "      <th>Location</th>\n",
       "      <th>Cuisines</th>\n",
       "      <th>Average_Cost</th>\n",
       "      <th>Minimum_Order</th>\n",
       "      <th>Rating</th>\n",
       "      <th>Votes</th>\n",
       "      <th>Reviews</th>\n",
       "      <th>Delivery_Time</th>\n",
       "    </tr>\n",
       "  </thead>\n",
       "  <tbody>\n",
       "    <tr>\n",
       "      <th>0</th>\n",
       "      <td>ID_6321</td>\n",
       "      <td>FTI College, Law College Road, Pune</td>\n",
       "      <td>Fast Food, Rolls, Burger, Salad, Wraps</td>\n",
       "      <td>₹200</td>\n",
       "      <td>₹50</td>\n",
       "      <td>3.5</td>\n",
       "      <td>12</td>\n",
       "      <td>4</td>\n",
       "      <td>30 minutes</td>\n",
       "    </tr>\n",
       "    <tr>\n",
       "      <th>1</th>\n",
       "      <td>ID_2882</td>\n",
       "      <td>Sector 3, Marathalli</td>\n",
       "      <td>Ice Cream, Desserts</td>\n",
       "      <td>₹100</td>\n",
       "      <td>₹50</td>\n",
       "      <td>3.5</td>\n",
       "      <td>11</td>\n",
       "      <td>4</td>\n",
       "      <td>30 minutes</td>\n",
       "    </tr>\n",
       "    <tr>\n",
       "      <th>2</th>\n",
       "      <td>ID_1595</td>\n",
       "      <td>Mumbai Central</td>\n",
       "      <td>Italian, Street Food, Fast Food</td>\n",
       "      <td>₹150</td>\n",
       "      <td>₹50</td>\n",
       "      <td>3.6</td>\n",
       "      <td>99</td>\n",
       "      <td>30</td>\n",
       "      <td>65 minutes</td>\n",
       "    </tr>\n",
       "    <tr>\n",
       "      <th>3</th>\n",
       "      <td>ID_5929</td>\n",
       "      <td>Sector 1, Noida</td>\n",
       "      <td>Mughlai, North Indian, Chinese</td>\n",
       "      <td>₹250</td>\n",
       "      <td>₹99</td>\n",
       "      <td>3.7</td>\n",
       "      <td>176</td>\n",
       "      <td>95</td>\n",
       "      <td>30 minutes</td>\n",
       "    </tr>\n",
       "    <tr>\n",
       "      <th>4</th>\n",
       "      <td>ID_6123</td>\n",
       "      <td>Rmz Centennial, I Gate, Whitefield</td>\n",
       "      <td>Cafe, Beverages</td>\n",
       "      <td>₹200</td>\n",
       "      <td>₹99</td>\n",
       "      <td>3.2</td>\n",
       "      <td>521</td>\n",
       "      <td>235</td>\n",
       "      <td>65 minutes</td>\n",
       "    </tr>\n",
       "  </tbody>\n",
       "</table>\n",
       "</div>"
      ],
      "text/plain": [
       "  Restaurant                             Location  \\\n",
       "0    ID_6321  FTI College, Law College Road, Pune   \n",
       "1    ID_2882                 Sector 3, Marathalli   \n",
       "2    ID_1595                       Mumbai Central   \n",
       "3    ID_5929                      Sector 1, Noida   \n",
       "4    ID_6123   Rmz Centennial, I Gate, Whitefield   \n",
       "\n",
       "                                 Cuisines Average_Cost Minimum_Order Rating  \\\n",
       "0  Fast Food, Rolls, Burger, Salad, Wraps         ₹200           ₹50    3.5   \n",
       "1                     Ice Cream, Desserts         ₹100           ₹50    3.5   \n",
       "2         Italian, Street Food, Fast Food         ₹150           ₹50    3.6   \n",
       "3          Mughlai, North Indian, Chinese         ₹250           ₹99    3.7   \n",
       "4                         Cafe, Beverages         ₹200           ₹99    3.2   \n",
       "\n",
       "  Votes Reviews Delivery_Time  \n",
       "0    12       4    30 minutes  \n",
       "1    11       4    30 minutes  \n",
       "2    99      30    65 minutes  \n",
       "3   176      95    30 minutes  \n",
       "4   521     235    65 minutes  "
      ]
     },
     "execution_count": 6,
     "metadata": {},
     "output_type": "execute_result"
    }
   ],
   "source": [
    "train.head()"
   ]
  },
  {
   "cell_type": "code",
   "execution_count": 7,
   "id": "c1978a55",
   "metadata": {},
   "outputs": [
    {
     "data": {
      "text/html": [
       "<div>\n",
       "<style scoped>\n",
       "    .dataframe tbody tr th:only-of-type {\n",
       "        vertical-align: middle;\n",
       "    }\n",
       "\n",
       "    .dataframe tbody tr th {\n",
       "        vertical-align: top;\n",
       "    }\n",
       "\n",
       "    .dataframe thead th {\n",
       "        text-align: right;\n",
       "    }\n",
       "</style>\n",
       "<table border=\"1\" class=\"dataframe\">\n",
       "  <thead>\n",
       "    <tr style=\"text-align: right;\">\n",
       "      <th></th>\n",
       "      <th>Restaurant</th>\n",
       "      <th>Location</th>\n",
       "      <th>Cuisines</th>\n",
       "      <th>Average_Cost</th>\n",
       "      <th>Minimum_Order</th>\n",
       "      <th>Rating</th>\n",
       "      <th>Votes</th>\n",
       "      <th>Reviews</th>\n",
       "    </tr>\n",
       "  </thead>\n",
       "  <tbody>\n",
       "    <tr>\n",
       "      <th>0</th>\n",
       "      <td>ID_2842</td>\n",
       "      <td>Mico Layout, Stage 2, BTM Layout,Bangalore</td>\n",
       "      <td>North Indian, Chinese, Assamese</td>\n",
       "      <td>₹350</td>\n",
       "      <td>₹50</td>\n",
       "      <td>4.2</td>\n",
       "      <td>361</td>\n",
       "      <td>225</td>\n",
       "    </tr>\n",
       "    <tr>\n",
       "      <th>1</th>\n",
       "      <td>ID_730</td>\n",
       "      <td>Mico Layout, Stage 2, BTM Layout,Bangalore</td>\n",
       "      <td>Biryani, Kebab</td>\n",
       "      <td>₹100</td>\n",
       "      <td>₹50</td>\n",
       "      <td>NEW</td>\n",
       "      <td>-</td>\n",
       "      <td>-</td>\n",
       "    </tr>\n",
       "    <tr>\n",
       "      <th>2</th>\n",
       "      <td>ID_4620</td>\n",
       "      <td>Sector 1, Noida</td>\n",
       "      <td>Fast Food</td>\n",
       "      <td>₹100</td>\n",
       "      <td>₹50</td>\n",
       "      <td>3.6</td>\n",
       "      <td>36</td>\n",
       "      <td>16</td>\n",
       "    </tr>\n",
       "    <tr>\n",
       "      <th>3</th>\n",
       "      <td>ID_5470</td>\n",
       "      <td>Babarpur, New Delhi, Delhi</td>\n",
       "      <td>Mithai, North Indian, Chinese, Fast Food, Sout...</td>\n",
       "      <td>₹200</td>\n",
       "      <td>₹50</td>\n",
       "      <td>3.6</td>\n",
       "      <td>66</td>\n",
       "      <td>33</td>\n",
       "    </tr>\n",
       "    <tr>\n",
       "      <th>4</th>\n",
       "      <td>ID_3249</td>\n",
       "      <td>Sector 1, Noida</td>\n",
       "      <td>Chinese, Fast Food</td>\n",
       "      <td>₹150</td>\n",
       "      <td>₹50</td>\n",
       "      <td>2.9</td>\n",
       "      <td>38</td>\n",
       "      <td>14</td>\n",
       "    </tr>\n",
       "  </tbody>\n",
       "</table>\n",
       "</div>"
      ],
      "text/plain": [
       "  Restaurant                                    Location  \\\n",
       "0    ID_2842  Mico Layout, Stage 2, BTM Layout,Bangalore   \n",
       "1     ID_730  Mico Layout, Stage 2, BTM Layout,Bangalore   \n",
       "2    ID_4620                             Sector 1, Noida   \n",
       "3    ID_5470                  Babarpur, New Delhi, Delhi   \n",
       "4    ID_3249                             Sector 1, Noida   \n",
       "\n",
       "                                            Cuisines Average_Cost  \\\n",
       "0                    North Indian, Chinese, Assamese         ₹350   \n",
       "1                                     Biryani, Kebab         ₹100   \n",
       "2                                          Fast Food         ₹100   \n",
       "3  Mithai, North Indian, Chinese, Fast Food, Sout...         ₹200   \n",
       "4                                 Chinese, Fast Food         ₹150   \n",
       "\n",
       "  Minimum_Order Rating Votes Reviews  \n",
       "0           ₹50    4.2   361     225  \n",
       "1           ₹50    NEW     -       -  \n",
       "2           ₹50    3.6    36      16  \n",
       "3           ₹50    3.6    66      33  \n",
       "4           ₹50    2.9    38      14  "
      ]
     },
     "execution_count": 7,
     "metadata": {},
     "output_type": "execute_result"
    }
   ],
   "source": [
    "test.head()"
   ]
  },
  {
   "cell_type": "code",
   "execution_count": 8,
   "id": "558aca57",
   "metadata": {},
   "outputs": [
    {
     "data": {
      "text/plain": [
       "(11094, 9)"
      ]
     },
     "execution_count": 8,
     "metadata": {},
     "output_type": "execute_result"
    }
   ],
   "source": [
    "train.shape"
   ]
  },
  {
   "cell_type": "code",
   "execution_count": 9,
   "id": "bd47d759",
   "metadata": {},
   "outputs": [
    {
     "data": {
      "text/plain": [
       "(2774, 8)"
      ]
     },
     "execution_count": 9,
     "metadata": {},
     "output_type": "execute_result"
    }
   ],
   "source": [
    "test.shape"
   ]
  },
  {
   "cell_type": "code",
   "execution_count": 10,
   "id": "63dbd8da",
   "metadata": {},
   "outputs": [
    {
     "data": {
      "text/html": [
       "<div>\n",
       "<style scoped>\n",
       "    .dataframe tbody tr th:only-of-type {\n",
       "        vertical-align: middle;\n",
       "    }\n",
       "\n",
       "    .dataframe tbody tr th {\n",
       "        vertical-align: top;\n",
       "    }\n",
       "\n",
       "    .dataframe thead th {\n",
       "        text-align: right;\n",
       "    }\n",
       "</style>\n",
       "<table border=\"1\" class=\"dataframe\">\n",
       "  <thead>\n",
       "    <tr style=\"text-align: right;\">\n",
       "      <th></th>\n",
       "      <th>Restaurant</th>\n",
       "      <th>Location</th>\n",
       "      <th>Cuisines</th>\n",
       "      <th>Average_Cost</th>\n",
       "      <th>Minimum_Order</th>\n",
       "      <th>Rating</th>\n",
       "      <th>Votes</th>\n",
       "      <th>Reviews</th>\n",
       "      <th>Delivery_Time</th>\n",
       "    </tr>\n",
       "  </thead>\n",
       "  <tbody>\n",
       "    <tr>\n",
       "      <th>count</th>\n",
       "      <td>11094</td>\n",
       "      <td>11094</td>\n",
       "      <td>11094</td>\n",
       "      <td>11094</td>\n",
       "      <td>11094</td>\n",
       "      <td>11094</td>\n",
       "      <td>11094</td>\n",
       "      <td>11094</td>\n",
       "      <td>11094</td>\n",
       "    </tr>\n",
       "    <tr>\n",
       "      <th>unique</th>\n",
       "      <td>7480</td>\n",
       "      <td>35</td>\n",
       "      <td>2179</td>\n",
       "      <td>26</td>\n",
       "      <td>18</td>\n",
       "      <td>33</td>\n",
       "      <td>1103</td>\n",
       "      <td>761</td>\n",
       "      <td>7</td>\n",
       "    </tr>\n",
       "    <tr>\n",
       "      <th>top</th>\n",
       "      <td>ID_7184</td>\n",
       "      <td>Mico Layout, Stage 2, BTM Layout,Bangalore</td>\n",
       "      <td>North Indian</td>\n",
       "      <td>₹200</td>\n",
       "      <td>₹50</td>\n",
       "      <td>-</td>\n",
       "      <td>-</td>\n",
       "      <td>-</td>\n",
       "      <td>30 minutes</td>\n",
       "    </tr>\n",
       "    <tr>\n",
       "      <th>freq</th>\n",
       "      <td>22</td>\n",
       "      <td>947</td>\n",
       "      <td>850</td>\n",
       "      <td>3241</td>\n",
       "      <td>10118</td>\n",
       "      <td>1191</td>\n",
       "      <td>2074</td>\n",
       "      <td>2312</td>\n",
       "      <td>7406</td>\n",
       "    </tr>\n",
       "  </tbody>\n",
       "</table>\n",
       "</div>"
      ],
      "text/plain": [
       "       Restaurant                                    Location      Cuisines  \\\n",
       "count       11094                                       11094         11094   \n",
       "unique       7480                                          35          2179   \n",
       "top       ID_7184  Mico Layout, Stage 2, BTM Layout,Bangalore  North Indian   \n",
       "freq           22                                         947           850   \n",
       "\n",
       "       Average_Cost Minimum_Order Rating  Votes Reviews Delivery_Time  \n",
       "count         11094         11094  11094  11094   11094         11094  \n",
       "unique           26            18     33   1103     761             7  \n",
       "top            ₹200           ₹50      -      -       -    30 minutes  \n",
       "freq           3241         10118   1191   2074    2312          7406  "
      ]
     },
     "execution_count": 10,
     "metadata": {},
     "output_type": "execute_result"
    }
   ],
   "source": [
    "train.describe()"
   ]
  },
  {
   "cell_type": "code",
   "execution_count": 11,
   "id": "3c16baab",
   "metadata": {},
   "outputs": [
    {
     "data": {
      "text/html": [
       "<div>\n",
       "<style scoped>\n",
       "    .dataframe tbody tr th:only-of-type {\n",
       "        vertical-align: middle;\n",
       "    }\n",
       "\n",
       "    .dataframe tbody tr th {\n",
       "        vertical-align: top;\n",
       "    }\n",
       "\n",
       "    .dataframe thead th {\n",
       "        text-align: right;\n",
       "    }\n",
       "</style>\n",
       "<table border=\"1\" class=\"dataframe\">\n",
       "  <thead>\n",
       "    <tr style=\"text-align: right;\">\n",
       "      <th></th>\n",
       "      <th>Restaurant</th>\n",
       "      <th>Location</th>\n",
       "      <th>Cuisines</th>\n",
       "      <th>Average_Cost</th>\n",
       "      <th>Minimum_Order</th>\n",
       "      <th>Rating</th>\n",
       "      <th>Votes</th>\n",
       "      <th>Reviews</th>\n",
       "    </tr>\n",
       "  </thead>\n",
       "  <tbody>\n",
       "    <tr>\n",
       "      <th>count</th>\n",
       "      <td>2774</td>\n",
       "      <td>2774</td>\n",
       "      <td>2774</td>\n",
       "      <td>2774</td>\n",
       "      <td>2774</td>\n",
       "      <td>2774</td>\n",
       "      <td>2774</td>\n",
       "      <td>2774</td>\n",
       "    </tr>\n",
       "    <tr>\n",
       "      <th>unique</th>\n",
       "      <td>2401</td>\n",
       "      <td>35</td>\n",
       "      <td>881</td>\n",
       "      <td>19</td>\n",
       "      <td>9</td>\n",
       "      <td>30</td>\n",
       "      <td>580</td>\n",
       "      <td>392</td>\n",
       "    </tr>\n",
       "    <tr>\n",
       "      <th>top</th>\n",
       "      <td>ID_1209</td>\n",
       "      <td>D-Block, Sector 63, Noida</td>\n",
       "      <td>North Indian</td>\n",
       "      <td>₹200</td>\n",
       "      <td>₹50</td>\n",
       "      <td>-</td>\n",
       "      <td>-</td>\n",
       "      <td>-</td>\n",
       "    </tr>\n",
       "    <tr>\n",
       "      <th>freq</th>\n",
       "      <td>8</td>\n",
       "      <td>221</td>\n",
       "      <td>226</td>\n",
       "      <td>820</td>\n",
       "      <td>2556</td>\n",
       "      <td>305</td>\n",
       "      <td>542</td>\n",
       "      <td>593</td>\n",
       "    </tr>\n",
       "  </tbody>\n",
       "</table>\n",
       "</div>"
      ],
      "text/plain": [
       "       Restaurant                   Location      Cuisines Average_Cost  \\\n",
       "count        2774                       2774          2774         2774   \n",
       "unique       2401                         35           881           19   \n",
       "top       ID_1209  D-Block, Sector 63, Noida  North Indian         ₹200   \n",
       "freq            8                        221           226          820   \n",
       "\n",
       "       Minimum_Order Rating Votes Reviews  \n",
       "count           2774   2774  2774    2774  \n",
       "unique             9     30   580     392  \n",
       "top              ₹50      -     -       -  \n",
       "freq            2556    305   542     593  "
      ]
     },
     "execution_count": 11,
     "metadata": {},
     "output_type": "execute_result"
    }
   ],
   "source": [
    "test.describe()"
   ]
  },
  {
   "cell_type": "code",
   "execution_count": 12,
   "id": "a5f8bc2e",
   "metadata": {},
   "outputs": [
    {
     "name": "stdout",
     "output_type": "stream",
     "text": [
      "<class 'pandas.core.frame.DataFrame'>\n",
      "RangeIndex: 11094 entries, 0 to 11093\n",
      "Data columns (total 9 columns):\n",
      " #   Column         Non-Null Count  Dtype \n",
      "---  ------         --------------  ----- \n",
      " 0   Restaurant     11094 non-null  object\n",
      " 1   Location       11094 non-null  object\n",
      " 2   Cuisines       11094 non-null  object\n",
      " 3   Average_Cost   11094 non-null  object\n",
      " 4   Minimum_Order  11094 non-null  object\n",
      " 5   Rating         11094 non-null  object\n",
      " 6   Votes          11094 non-null  object\n",
      " 7   Reviews        11094 non-null  object\n",
      " 8   Delivery_Time  11094 non-null  object\n",
      "dtypes: object(9)\n",
      "memory usage: 780.2+ KB\n"
     ]
    }
   ],
   "source": [
    "train.info()"
   ]
  },
  {
   "cell_type": "code",
   "execution_count": 13,
   "id": "cd10be50",
   "metadata": {},
   "outputs": [
    {
     "name": "stdout",
     "output_type": "stream",
     "text": [
      "<class 'pandas.core.frame.DataFrame'>\n",
      "RangeIndex: 2774 entries, 0 to 2773\n",
      "Data columns (total 8 columns):\n",
      " #   Column         Non-Null Count  Dtype \n",
      "---  ------         --------------  ----- \n",
      " 0   Restaurant     2774 non-null   object\n",
      " 1   Location       2774 non-null   object\n",
      " 2   Cuisines       2774 non-null   object\n",
      " 3   Average_Cost   2774 non-null   object\n",
      " 4   Minimum_Order  2774 non-null   object\n",
      " 5   Rating         2774 non-null   object\n",
      " 6   Votes          2774 non-null   object\n",
      " 7   Reviews        2774 non-null   object\n",
      "dtypes: object(8)\n",
      "memory usage: 173.5+ KB\n"
     ]
    }
   ],
   "source": [
    "test.info()"
   ]
  },
  {
   "cell_type": "code",
   "execution_count": 14,
   "id": "6fd1eb68",
   "metadata": {},
   "outputs": [
    {
     "data": {
      "text/plain": [
       "Restaurant       0\n",
       "Location         0\n",
       "Cuisines         0\n",
       "Average_Cost     0\n",
       "Minimum_Order    0\n",
       "Rating           0\n",
       "Votes            0\n",
       "Reviews          0\n",
       "Delivery_Time    0\n",
       "dtype: int64"
      ]
     },
     "execution_count": 14,
     "metadata": {},
     "output_type": "execute_result"
    }
   ],
   "source": [
    "train.isnull().sum()"
   ]
  },
  {
   "cell_type": "code",
   "execution_count": 15,
   "id": "0b2eea9f",
   "metadata": {},
   "outputs": [
    {
     "data": {
      "text/plain": [
       "Restaurant       0\n",
       "Location         0\n",
       "Cuisines         0\n",
       "Average_Cost     0\n",
       "Minimum_Order    0\n",
       "Rating           0\n",
       "Votes            0\n",
       "Reviews          0\n",
       "dtype: int64"
      ]
     },
     "execution_count": 15,
     "metadata": {},
     "output_type": "execute_result"
    }
   ],
   "source": [
    "test.isnull().sum()"
   ]
  },
  {
   "cell_type": "code",
   "execution_count": 16,
   "id": "d03d3356",
   "metadata": {},
   "outputs": [
    {
     "data": {
      "text/plain": [
       "<AxesSubplot:xlabel='Delivery_Time', ylabel='count'>"
      ]
     },
     "execution_count": 16,
     "metadata": {},
     "output_type": "execute_result"
    },
    {
     "data": {
      "image/png": "[encoded data removed]",
      "text/plain": [
       "<Figure size 800x500 with 1 Axes>"
      ]
     },
     "metadata": {},
     "output_type": "display_data"
    }
   ],
   "source": [
    "plt.figure(figsize = (8,5))\n",
    "sns.countplot(x = \"Delivery_Time\", data = train)"
   ]
  },
  {
   "cell_type": "code",
   "execution_count": 17,
   "id": "4aa5ba9e",
   "metadata": {},
   "outputs": [
    {
     "data": {
      "text/html": [
       "<div>\n",
       "<style scoped>\n",
       "    .dataframe tbody tr th:only-of-type {\n",
       "        vertical-align: middle;\n",
       "    }\n",
       "\n",
       "    .dataframe tbody tr th {\n",
       "        vertical-align: top;\n",
       "    }\n",
       "\n",
       "    .dataframe thead th {\n",
       "        text-align: right;\n",
       "    }\n",
       "</style>\n",
       "<table border=\"1\" class=\"dataframe\">\n",
       "  <thead>\n",
       "    <tr style=\"text-align: right;\">\n",
       "      <th></th>\n",
       "      <th>Restaurant</th>\n",
       "      <th>Location</th>\n",
       "      <th>Cuisines</th>\n",
       "      <th>Average_Cost</th>\n",
       "      <th>Minimum_Order</th>\n",
       "      <th>Rating</th>\n",
       "      <th>Votes</th>\n",
       "      <th>Reviews</th>\n",
       "      <th>Delivery_Time</th>\n",
       "    </tr>\n",
       "  </thead>\n",
       "  <tbody>\n",
       "    <tr>\n",
       "      <th>252</th>\n",
       "      <td>ID_3209</td>\n",
       "      <td>Sector 1, Noida</td>\n",
       "      <td>Fast Food, Healthy Food</td>\n",
       "      <td>₹100</td>\n",
       "      <td>₹50</td>\n",
       "      <td>NEW</td>\n",
       "      <td>-</td>\n",
       "      <td>-</td>\n",
       "      <td>10 minutes</td>\n",
       "    </tr>\n",
       "    <tr>\n",
       "      <th>1773</th>\n",
       "      <td>ID_378</td>\n",
       "      <td>D-Block, Sector 63, Noida</td>\n",
       "      <td>Biryani, North Indian, South Indian, Fast Food</td>\n",
       "      <td>₹150</td>\n",
       "      <td>₹50</td>\n",
       "      <td>NEW</td>\n",
       "      <td>-</td>\n",
       "      <td>-</td>\n",
       "      <td>10 minutes</td>\n",
       "    </tr>\n",
       "    <tr>\n",
       "      <th>5488</th>\n",
       "      <td>ID_5662</td>\n",
       "      <td>Sector 14, Noida</td>\n",
       "      <td>North Indian, Chinese</td>\n",
       "      <td>₹150</td>\n",
       "      <td>₹50</td>\n",
       "      <td>3.7</td>\n",
       "      <td>53</td>\n",
       "      <td>41</td>\n",
       "      <td>10 minutes</td>\n",
       "    </tr>\n",
       "    <tr>\n",
       "      <th>6633</th>\n",
       "      <td>ID_5662</td>\n",
       "      <td>Sector 1, Noida</td>\n",
       "      <td>North Indian, Chinese</td>\n",
       "      <td>₹150</td>\n",
       "      <td>₹50</td>\n",
       "      <td>3.7</td>\n",
       "      <td>53</td>\n",
       "      <td>41</td>\n",
       "      <td>10 minutes</td>\n",
       "    </tr>\n",
       "  </tbody>\n",
       "</table>\n",
       "</div>"
      ],
      "text/plain": [
       "     Restaurant                   Location  \\\n",
       "252     ID_3209            Sector 1, Noida   \n",
       "1773     ID_378  D-Block, Sector 63, Noida   \n",
       "5488    ID_5662           Sector 14, Noida   \n",
       "6633    ID_5662            Sector 1, Noida   \n",
       "\n",
       "                                            Cuisines Average_Cost  \\\n",
       "252                          Fast Food, Healthy Food         ₹100   \n",
       "1773  Biryani, North Indian, South Indian, Fast Food         ₹150   \n",
       "5488                           North Indian, Chinese         ₹150   \n",
       "6633                           North Indian, Chinese         ₹150   \n",
       "\n",
       "     Minimum_Order Rating Votes Reviews Delivery_Time  \n",
       "252            ₹50    NEW     -       -    10 minutes  \n",
       "1773           ₹50    NEW     -       -    10 minutes  \n",
       "5488           ₹50    3.7    53      41    10 minutes  \n",
       "6633           ₹50    3.7    53      41    10 minutes  "
      ]
     },
     "execution_count": 17,
     "metadata": {},
     "output_type": "execute_result"
    }
   ],
   "source": [
    "train[train['Delivery_Time'] == '10 minutes']"
   ]
  },
  {
   "cell_type": "code",
   "execution_count": 18,
   "id": "9955e16f",
   "metadata": {},
   "outputs": [
    {
     "data": {
      "text/plain": [
       "(11090, 9)"
      ]
     },
     "execution_count": 18,
     "metadata": {},
     "output_type": "execute_result"
    }
   ],
   "source": [
    "train[train['Delivery_Time'] != '10 minutes'].shape  #number of orders that takes more than 10 minutes to get delivered"
   ]
  },
  {
   "cell_type": "code",
   "execution_count": 19,
   "id": "0b06053c",
   "metadata": {},
   "outputs": [],
   "source": [
    "# Removed All 4 Rows From Train Data Where Order Was Delivered In 10 Minutes"
   ]
  },
  {
   "cell_type": "code",
   "execution_count": 20,
   "id": "6abf48e7",
   "metadata": {},
   "outputs": [],
   "source": [
    "train = train[train['Delivery_Time'] != '10 minutes'] "
   ]
  },
  {
   "cell_type": "code",
   "execution_count": 21,
   "id": "a75148d9",
   "metadata": {},
   "outputs": [
    {
     "data": {
      "text/plain": [
       "(11090, 9)"
      ]
     },
     "execution_count": 21,
     "metadata": {},
     "output_type": "execute_result"
    }
   ],
   "source": [
    "train.shape"
   ]
  },
  {
   "cell_type": "code",
   "execution_count": 22,
   "id": "63a21f4b",
   "metadata": {},
   "outputs": [],
   "source": [
    "# Cleaning \"Average_Cost\" Column For \"train\" Data and Adding Cleaned Data In New Column Named \"Average_Cost_Clean\". \n",
    "# Removed ₹ Sign and ',' and changed data type to int"
   ]
  },
  {
   "cell_type": "code",
   "execution_count": 23,
   "id": "c4c45c70",
   "metadata": {},
   "outputs": [
    {
     "data": {
      "text/plain": [
       "array(['₹200', '₹100', '₹150', '₹250', '₹650', '₹350', '₹800', '₹50',\n",
       "       '₹400', '₹600', '₹300', '₹750', '₹450', '₹550', '₹1,000', '₹500',\n",
       "       '₹900', '₹1,200', '₹950', '₹850', '₹700', '₹1,150', 'for',\n",
       "       '₹1,100', '₹1,400', '₹2,050'], dtype=object)"
      ]
     },
     "execution_count": 23,
     "metadata": {},
     "output_type": "execute_result"
    }
   ],
   "source": [
    "train['Average_Cost'].unique()"
   ]
  },
  {
   "cell_type": "code",
   "execution_count": 24,
   "id": "419b9040",
   "metadata": {},
   "outputs": [],
   "source": [
    "train['Average_Cost'].replace('for','200', inplace = True)"
   ]
  },
  {
   "cell_type": "code",
   "execution_count": 25,
   "id": "66c14ebf",
   "metadata": {},
   "outputs": [
    {
     "data": {
      "text/plain": [
       "array(['₹200', '₹100', '₹150', '₹250', '₹650', '₹350', '₹800', '₹50',\n",
       "       '₹400', '₹600', '₹300', '₹750', '₹450', '₹550', '₹1,000', '₹500',\n",
       "       '₹900', '₹1,200', '₹950', '₹850', '₹700', '₹1,150', '200',\n",
       "       '₹1,100', '₹1,400', '₹2,050'], dtype=object)"
      ]
     },
     "execution_count": 25,
     "metadata": {},
     "output_type": "execute_result"
    }
   ],
   "source": [
    "train['Average_Cost'].unique()"
   ]
  },
  {
   "cell_type": "code",
   "execution_count": 26,
   "id": "02268198",
   "metadata": {
    "scrolled": true
   },
   "outputs": [],
   "source": [
    "train['Average_Cost_Clean'] = train['Average_Cost'].str.replace('₹', '').str.replace(',', '').astype(int)"
   ]
  },
  {
   "cell_type": "code",
   "execution_count": 27,
   "id": "d7463498",
   "metadata": {},
   "outputs": [
    {
     "data": {
      "text/plain": [
       "array([ 200,  100,  150,  250,  650,  350,  800,   50,  400,  600,  300,\n",
       "        750,  450,  550, 1000,  500,  900, 1200,  950,  850,  700, 1150,\n",
       "       1100, 1400, 2050])"
      ]
     },
     "execution_count": 27,
     "metadata": {},
     "output_type": "execute_result"
    }
   ],
   "source": [
    "train['Average_Cost_Clean'].unique()"
   ]
  },
  {
   "cell_type": "code",
   "execution_count": 28,
   "id": "f31768a1",
   "metadata": {},
   "outputs": [],
   "source": [
    "# Cleaning \"Average_Cost\" Column For \"test\" Data and Adding Cleaned Data In New Column Named \"Average_Cost_Clean\". \n",
    "# Removed ₹ Sign and ',' and changed data type to int"
   ]
  },
  {
   "cell_type": "code",
   "execution_count": 29,
   "id": "b1f052b8",
   "metadata": {},
   "outputs": [],
   "source": [
    "test['Average_Cost_Clean'] = test['Average_Cost'].str.replace('₹', '').str.replace(',', '').astype(int)"
   ]
  },
  {
   "cell_type": "code",
   "execution_count": 30,
   "id": "6d05011b",
   "metadata": {},
   "outputs": [
    {
     "data": {
      "text/plain": [
       "array([ 350,  100,  200,  150,  300,   50,  250,  500,  650,  400,  550,\n",
       "        450,  600,  750,  850, 1000,  700,  800, 1200])"
      ]
     },
     "execution_count": 30,
     "metadata": {},
     "output_type": "execute_result"
    }
   ],
   "source": [
    "test['Average_Cost_Clean'].unique()"
   ]
  },
  {
   "cell_type": "code",
   "execution_count": 31,
   "id": "2a789e34",
   "metadata": {},
   "outputs": [],
   "source": [
    "# Cleaning \"Minimum_Order\" Column For \"test\" Data and Adding Cleaned Data In New Column Named \"Minimum_Order_Clean\". \n",
    "# Removed ₹ Sign and ',' and changed data type to int"
   ]
  },
  {
   "cell_type": "code",
   "execution_count": 32,
   "id": "34cfdd04",
   "metadata": {},
   "outputs": [
    {
     "data": {
      "text/plain": [
       "array(['₹50', '₹99', '₹500', '₹0', '₹200', '₹149', '₹199', '₹399', '₹89'],\n",
       "      dtype=object)"
      ]
     },
     "execution_count": 32,
     "metadata": {},
     "output_type": "execute_result"
    }
   ],
   "source": [
    "test['Minimum_Order'].unique()"
   ]
  },
  {
   "cell_type": "code",
   "execution_count": 33,
   "id": "814225ef",
   "metadata": {},
   "outputs": [],
   "source": [
    "test['Minimum_Order_Clean'] = test['Minimum_Order'].str.replace('₹', '').str.replace(',', '').astype(int)"
   ]
  },
  {
   "cell_type": "code",
   "execution_count": 34,
   "id": "28f5aad3",
   "metadata": {},
   "outputs": [
    {
     "data": {
      "text/plain": [
       "array([ 50,  99, 500,   0, 200, 149, 199, 399,  89])"
      ]
     },
     "execution_count": 34,
     "metadata": {},
     "output_type": "execute_result"
    }
   ],
   "source": [
    "test['Minimum_Order_Clean'].unique()"
   ]
  },
  {
   "cell_type": "code",
   "execution_count": 35,
   "id": "38f69e5e",
   "metadata": {},
   "outputs": [],
   "source": [
    "# Cleaning \"Minimum_Order\" Column For \"train\" Data and Adding Cleaned Data In New Column Named \"Minimum_Order_Clean\". \n",
    "# Removed ₹ Sign and ',' and changed data type to int"
   ]
  },
  {
   "cell_type": "code",
   "execution_count": 36,
   "id": "6ae77092",
   "metadata": {},
   "outputs": [
    {
     "data": {
      "text/plain": [
       "array(['₹50', '₹99', '₹0', '₹200', '₹450', '₹350', '₹79', '₹400', '₹199',\n",
       "       '₹500', '₹250', '₹150', '₹90', '₹299', '₹300', '₹240', '₹89',\n",
       "       '₹59'], dtype=object)"
      ]
     },
     "execution_count": 36,
     "metadata": {},
     "output_type": "execute_result"
    }
   ],
   "source": [
    "train['Minimum_Order'].unique()"
   ]
  },
  {
   "cell_type": "code",
   "execution_count": 37,
   "id": "ee14c0bc",
   "metadata": {},
   "outputs": [],
   "source": [
    "train['Minimum_Order_Clean'] = train['Minimum_Order'].str.replace('₹', '').str.replace(',', '').astype(int)"
   ]
  },
  {
   "cell_type": "code",
   "execution_count": 38,
   "id": "e9193fe1",
   "metadata": {},
   "outputs": [
    {
     "data": {
      "text/plain": [
       "array([ 50,  99,   0, 200, 450, 350,  79, 400, 199, 500, 250, 150,  90,\n",
       "       299, 300, 240,  89,  59])"
      ]
     },
     "execution_count": 38,
     "metadata": {},
     "output_type": "execute_result"
    }
   ],
   "source": [
    "train['Minimum_Order_Clean'].unique()"
   ]
  },
  {
   "cell_type": "code",
   "execution_count": 39,
   "id": "222d5156",
   "metadata": {},
   "outputs": [],
   "source": [
    "# Now we will confirm whether new columns are added in both data or not"
   ]
  },
  {
   "cell_type": "code",
   "execution_count": 40,
   "id": "f7b85c49",
   "metadata": {},
   "outputs": [
    {
     "data": {
      "text/html": [
       "<div>\n",
       "<style scoped>\n",
       "    .dataframe tbody tr th:only-of-type {\n",
       "        vertical-align: middle;\n",
       "    }\n",
       "\n",
       "    .dataframe tbody tr th {\n",
       "        vertical-align: top;\n",
       "    }\n",
       "\n",
       "    .dataframe thead th {\n",
       "        text-align: right;\n",
       "    }\n",
       "</style>\n",
       "<table border=\"1\" class=\"dataframe\">\n",
       "  <thead>\n",
       "    <tr style=\"text-align: right;\">\n",
       "      <th></th>\n",
       "      <th>Restaurant</th>\n",
       "      <th>Location</th>\n",
       "      <th>Cuisines</th>\n",
       "      <th>Average_Cost</th>\n",
       "      <th>Minimum_Order</th>\n",
       "      <th>Rating</th>\n",
       "      <th>Votes</th>\n",
       "      <th>Reviews</th>\n",
       "      <th>Delivery_Time</th>\n",
       "      <th>Average_Cost_Clean</th>\n",
       "      <th>Minimum_Order_Clean</th>\n",
       "    </tr>\n",
       "  </thead>\n",
       "  <tbody>\n",
       "    <tr>\n",
       "      <th>0</th>\n",
       "      <td>ID_6321</td>\n",
       "      <td>FTI College, Law College Road, Pune</td>\n",
       "      <td>Fast Food, Rolls, Burger, Salad, Wraps</td>\n",
       "      <td>₹200</td>\n",
       "      <td>₹50</td>\n",
       "      <td>3.5</td>\n",
       "      <td>12</td>\n",
       "      <td>4</td>\n",
       "      <td>30 minutes</td>\n",
       "      <td>200</td>\n",
       "      <td>50</td>\n",
       "    </tr>\n",
       "    <tr>\n",
       "      <th>1</th>\n",
       "      <td>ID_2882</td>\n",
       "      <td>Sector 3, Marathalli</td>\n",
       "      <td>Ice Cream, Desserts</td>\n",
       "      <td>₹100</td>\n",
       "      <td>₹50</td>\n",
       "      <td>3.5</td>\n",
       "      <td>11</td>\n",
       "      <td>4</td>\n",
       "      <td>30 minutes</td>\n",
       "      <td>100</td>\n",
       "      <td>50</td>\n",
       "    </tr>\n",
       "    <tr>\n",
       "      <th>2</th>\n",
       "      <td>ID_1595</td>\n",
       "      <td>Mumbai Central</td>\n",
       "      <td>Italian, Street Food, Fast Food</td>\n",
       "      <td>₹150</td>\n",
       "      <td>₹50</td>\n",
       "      <td>3.6</td>\n",
       "      <td>99</td>\n",
       "      <td>30</td>\n",
       "      <td>65 minutes</td>\n",
       "      <td>150</td>\n",
       "      <td>50</td>\n",
       "    </tr>\n",
       "    <tr>\n",
       "      <th>3</th>\n",
       "      <td>ID_5929</td>\n",
       "      <td>Sector 1, Noida</td>\n",
       "      <td>Mughlai, North Indian, Chinese</td>\n",
       "      <td>₹250</td>\n",
       "      <td>₹99</td>\n",
       "      <td>3.7</td>\n",
       "      <td>176</td>\n",
       "      <td>95</td>\n",
       "      <td>30 minutes</td>\n",
       "      <td>250</td>\n",
       "      <td>99</td>\n",
       "    </tr>\n",
       "    <tr>\n",
       "      <th>4</th>\n",
       "      <td>ID_6123</td>\n",
       "      <td>Rmz Centennial, I Gate, Whitefield</td>\n",
       "      <td>Cafe, Beverages</td>\n",
       "      <td>₹200</td>\n",
       "      <td>₹99</td>\n",
       "      <td>3.2</td>\n",
       "      <td>521</td>\n",
       "      <td>235</td>\n",
       "      <td>65 minutes</td>\n",
       "      <td>200</td>\n",
       "      <td>99</td>\n",
       "    </tr>\n",
       "  </tbody>\n",
       "</table>\n",
       "</div>"
      ],
      "text/plain": [
       "  Restaurant                             Location  \\\n",
       "0    ID_6321  FTI College, Law College Road, Pune   \n",
       "1    ID_2882                 Sector 3, Marathalli   \n",
       "2    ID_1595                       Mumbai Central   \n",
       "3    ID_5929                      Sector 1, Noida   \n",
       "4    ID_6123   Rmz Centennial, I Gate, Whitefield   \n",
       "\n",
       "                                 Cuisines Average_Cost Minimum_Order Rating  \\\n",
       "0  Fast Food, Rolls, Burger, Salad, Wraps         ₹200           ₹50    3.5   \n",
       "1                     Ice Cream, Desserts         ₹100           ₹50    3.5   \n",
       "2         Italian, Street Food, Fast Food         ₹150           ₹50    3.6   \n",
       "3          Mughlai, North Indian, Chinese         ₹250           ₹99    3.7   \n",
       "4                         Cafe, Beverages         ₹200           ₹99    3.2   \n",
       "\n",
       "  Votes Reviews Delivery_Time  Average_Cost_Clean  Minimum_Order_Clean  \n",
       "0    12       4    30 minutes                 200                   50  \n",
       "1    11       4    30 minutes                 100                   50  \n",
       "2    99      30    65 minutes                 150                   50  \n",
       "3   176      95    30 minutes                 250                   99  \n",
       "4   521     235    65 minutes                 200                   99  "
      ]
     },
     "execution_count": 40,
     "metadata": {},
     "output_type": "execute_result"
    }
   ],
   "source": [
    "train.head()"
   ]
  },
  {
   "cell_type": "code",
   "execution_count": 41,
   "id": "d8d04749",
   "metadata": {},
   "outputs": [
    {
     "data": {
      "text/html": [
       "<div>\n",
       "<style scoped>\n",
       "    .dataframe tbody tr th:only-of-type {\n",
       "        vertical-align: middle;\n",
       "    }\n",
       "\n",
       "    .dataframe tbody tr th {\n",
       "        vertical-align: top;\n",
       "    }\n",
       "\n",
       "    .dataframe thead th {\n",
       "        text-align: right;\n",
       "    }\n",
       "</style>\n",
       "<table border=\"1\" class=\"dataframe\">\n",
       "  <thead>\n",
       "    <tr style=\"text-align: right;\">\n",
       "      <th></th>\n",
       "      <th>Restaurant</th>\n",
       "      <th>Location</th>\n",
       "      <th>Cuisines</th>\n",
       "      <th>Average_Cost</th>\n",
       "      <th>Minimum_Order</th>\n",
       "      <th>Rating</th>\n",
       "      <th>Votes</th>\n",
       "      <th>Reviews</th>\n",
       "      <th>Average_Cost_Clean</th>\n",
       "      <th>Minimum_Order_Clean</th>\n",
       "    </tr>\n",
       "  </thead>\n",
       "  <tbody>\n",
       "    <tr>\n",
       "      <th>0</th>\n",
       "      <td>ID_2842</td>\n",
       "      <td>Mico Layout, Stage 2, BTM Layout,Bangalore</td>\n",
       "      <td>North Indian, Chinese, Assamese</td>\n",
       "      <td>₹350</td>\n",
       "      <td>₹50</td>\n",
       "      <td>4.2</td>\n",
       "      <td>361</td>\n",
       "      <td>225</td>\n",
       "      <td>350</td>\n",
       "      <td>50</td>\n",
       "    </tr>\n",
       "    <tr>\n",
       "      <th>1</th>\n",
       "      <td>ID_730</td>\n",
       "      <td>Mico Layout, Stage 2, BTM Layout,Bangalore</td>\n",
       "      <td>Biryani, Kebab</td>\n",
       "      <td>₹100</td>\n",
       "      <td>₹50</td>\n",
       "      <td>NEW</td>\n",
       "      <td>-</td>\n",
       "      <td>-</td>\n",
       "      <td>100</td>\n",
       "      <td>50</td>\n",
       "    </tr>\n",
       "    <tr>\n",
       "      <th>2</th>\n",
       "      <td>ID_4620</td>\n",
       "      <td>Sector 1, Noida</td>\n",
       "      <td>Fast Food</td>\n",
       "      <td>₹100</td>\n",
       "      <td>₹50</td>\n",
       "      <td>3.6</td>\n",
       "      <td>36</td>\n",
       "      <td>16</td>\n",
       "      <td>100</td>\n",
       "      <td>50</td>\n",
       "    </tr>\n",
       "    <tr>\n",
       "      <th>3</th>\n",
       "      <td>ID_5470</td>\n",
       "      <td>Babarpur, New Delhi, Delhi</td>\n",
       "      <td>Mithai, North Indian, Chinese, Fast Food, Sout...</td>\n",
       "      <td>₹200</td>\n",
       "      <td>₹50</td>\n",
       "      <td>3.6</td>\n",
       "      <td>66</td>\n",
       "      <td>33</td>\n",
       "      <td>200</td>\n",
       "      <td>50</td>\n",
       "    </tr>\n",
       "    <tr>\n",
       "      <th>4</th>\n",
       "      <td>ID_3249</td>\n",
       "      <td>Sector 1, Noida</td>\n",
       "      <td>Chinese, Fast Food</td>\n",
       "      <td>₹150</td>\n",
       "      <td>₹50</td>\n",
       "      <td>2.9</td>\n",
       "      <td>38</td>\n",
       "      <td>14</td>\n",
       "      <td>150</td>\n",
       "      <td>50</td>\n",
       "    </tr>\n",
       "  </tbody>\n",
       "</table>\n",
       "</div>"
      ],
      "text/plain": [
       "  Restaurant                                    Location  \\\n",
       "0    ID_2842  Mico Layout, Stage 2, BTM Layout,Bangalore   \n",
       "1     ID_730  Mico Layout, Stage 2, BTM Layout,Bangalore   \n",
       "2    ID_4620                             Sector 1, Noida   \n",
       "3    ID_5470                  Babarpur, New Delhi, Delhi   \n",
       "4    ID_3249                             Sector 1, Noida   \n",
       "\n",
       "                                            Cuisines Average_Cost  \\\n",
       "0                    North Indian, Chinese, Assamese         ₹350   \n",
       "1                                     Biryani, Kebab         ₹100   \n",
       "2                                          Fast Food         ₹100   \n",
       "3  Mithai, North Indian, Chinese, Fast Food, Sout...         ₹200   \n",
       "4                                 Chinese, Fast Food         ₹150   \n",
       "\n",
       "  Minimum_Order Rating Votes Reviews  Average_Cost_Clean  Minimum_Order_Clean  \n",
       "0           ₹50    4.2   361     225                 350                   50  \n",
       "1           ₹50    NEW     -       -                 100                   50  \n",
       "2           ₹50    3.6    36      16                 100                   50  \n",
       "3           ₹50    3.6    66      33                 200                   50  \n",
       "4           ₹50    2.9    38      14                 150                   50  "
      ]
     },
     "execution_count": 41,
     "metadata": {},
     "output_type": "execute_result"
    }
   ],
   "source": [
    "test.head()"
   ]
  },
  {
   "cell_type": "code",
   "execution_count": 42,
   "id": "8359c9b8",
   "metadata": {},
   "outputs": [],
   "source": [
    "# Now we will clean the column 'Rating' for both datasets and will store cleaned date in new columns"
   ]
  },
  {
   "cell_type": "code",
   "execution_count": 43,
   "id": "b89b6ac4",
   "metadata": {},
   "outputs": [
    {
     "data": {
      "text/plain": [
       "array(['4.2', 'NEW', '3.6', '2.9', '3.4', '3.3', '3.8', '3.2', '3.1',\n",
       "       '4.1', '3.9', '-', '3.7', '4.0', '4.3', '3.0', '3.5', '2.6', '2.8',\n",
       "       '4.5', '2.7', '4.4', '2.1', '2.4', '4.7', '4.6', '2.5', '4.8',\n",
       "       '2.3', 'Opening Soon'], dtype=object)"
      ]
     },
     "execution_count": 43,
     "metadata": {},
     "output_type": "execute_result"
    }
   ],
   "source": [
    "test['Rating'].unique()"
   ]
  },
  {
   "cell_type": "code",
   "execution_count": 44,
   "id": "baa18367",
   "metadata": {
    "scrolled": false
   },
   "outputs": [
    {
     "data": {
      "text/plain": [
       "-               305\n",
       "3.6             223\n",
       "3.9             216\n",
       "3.7             212\n",
       "NEW             200\n",
       "3.5             197\n",
       "3.4             185\n",
       "3.8             183\n",
       "3.3             153\n",
       "4.0             141\n",
       "3.2             129\n",
       "3.1             120\n",
       "4.1             115\n",
       "4.2              70\n",
       "3.0              65\n",
       "2.9              57\n",
       "4.3              52\n",
       "2.8              41\n",
       "4.4              29\n",
       "2.7              22\n",
       "4.5              18\n",
       "2.6               9\n",
       "4.6               7\n",
       "4.7               6\n",
       "2.5               6\n",
       "2.4               5\n",
       "4.8               3\n",
       "2.3               2\n",
       "Opening Soon      2\n",
       "2.1               1\n",
       "Name: Rating, dtype: int64"
      ]
     },
     "execution_count": 44,
     "metadata": {},
     "output_type": "execute_result"
    }
   ],
   "source": [
    "test['Rating'].value_counts()"
   ]
  },
  {
   "cell_type": "code",
   "execution_count": 45,
   "id": "0a1f5681",
   "metadata": {
    "scrolled": false
   },
   "outputs": [
    {
     "data": {
      "text/plain": [
       "array(['3.5', '3.6', '3.7', '3.2', '3.8', '4.0', '3.9', '4.2', '-', '2.8',\n",
       "       '3.0', '3.3', '3.1', '4.7', '3.4', '4.1', 'NEW', '2.9', '4.6',\n",
       "       '4.3', '2.6', '4.5', '4.4', '4.8', '2.4', '2.7', '2.5',\n",
       "       'Opening Soon', '2.2', '4.9', '2.3', '2.1', 'Temporarily Closed'],\n",
       "      dtype=object)"
      ]
     },
     "execution_count": 45,
     "metadata": {},
     "output_type": "execute_result"
    }
   ],
   "source": [
    "train['Rating'].unique()"
   ]
  },
  {
   "cell_type": "code",
   "execution_count": 46,
   "id": "82904f47",
   "metadata": {},
   "outputs": [
    {
     "data": {
      "text/plain": [
       "-                     1191\n",
       "3.7                    867\n",
       "3.6                    846\n",
       "3.5                    818\n",
       "3.8                    800\n",
       "NEW                    756\n",
       "3.9                    749\n",
       "3.4                    718\n",
       "3.3                    675\n",
       "4.0                    614\n",
       "3.2                    511\n",
       "4.1                    459\n",
       "3.1                    411\n",
       "3.0                    302\n",
       "4.2                    272\n",
       "4.3                    247\n",
       "2.9                    199\n",
       "2.8                    157\n",
       "4.4                    142\n",
       "4.5                     78\n",
       "2.7                     76\n",
       "2.6                     42\n",
       "4.6                     41\n",
       "4.7                     36\n",
       "2.5                     27\n",
       "2.4                     13\n",
       "4.8                     13\n",
       "Opening Soon            12\n",
       "4.9                      8\n",
       "2.3                      6\n",
       "Temporarily Closed       2\n",
       "2.2                      1\n",
       "2.1                      1\n",
       "Name: Rating, dtype: int64"
      ]
     },
     "execution_count": 46,
     "metadata": {},
     "output_type": "execute_result"
    }
   ],
   "source": [
    "train['Rating'].value_counts()"
   ]
  },
  {
   "cell_type": "code",
   "execution_count": 47,
   "id": "f94fadbb",
   "metadata": {},
   "outputs": [],
   "source": [
    "# We will replace all non numeric values with the mean. For this, we will create a function that will do the needful"
   ]
  },
  {
   "cell_type": "code",
   "execution_count": 48,
   "id": "e7a80ffc",
   "metadata": {},
   "outputs": [],
   "source": [
    "def replace_non_numeric_with_mean_float(df, column_name, column_name_new):\n",
    "    # Convert non-numeric values to NaN\n",
    "    df[column_name_new] = pd.to_numeric(df[column_name], errors='coerce')\n",
    "\n",
    "    # Calculate the mean excluding NaN values and round to one decimal place\n",
    "    mean_value = df[column_name_new].mean(skipna=True)\n",
    "\n",
    "    # Format the mean to display only one digit after the decimal point\n",
    "    mean_value_formatted = round(mean_value, 1)\n",
    "\n",
    "    # Replace NaN values with the formatted mean\n",
    "    df[column_name_new].fillna(mean_value_formatted, inplace=True)\n",
    "\n",
    "    # Change 'Rating_Clean' column datatype to float\n",
    "    df[column_name_new] = df[column_name_new].astype(float)"
   ]
  },
  {
   "cell_type": "code",
   "execution_count": 49,
   "id": "dbfb7b6e",
   "metadata": {},
   "outputs": [],
   "source": [
    "# Apply the function to DataFrame 'test & train' and their respective 'Rating' columns"
   ]
  },
  {
   "cell_type": "code",
   "execution_count": 50,
   "id": "7854d447",
   "metadata": {},
   "outputs": [],
   "source": [
    "replace_non_numeric_with_mean_float(test, 'Rating', 'Rating_Clean')\n",
    "replace_non_numeric_with_mean_float(train, 'Rating', 'Rating_Clean')"
   ]
  },
  {
   "cell_type": "code",
   "execution_count": 51,
   "id": "a7c60b16",
   "metadata": {},
   "outputs": [],
   "source": [
    "# Now we will check whether formula made changes or not"
   ]
  },
  {
   "cell_type": "code",
   "execution_count": 52,
   "id": "17e54b91",
   "metadata": {},
   "outputs": [
    {
     "data": {
      "text/plain": [
       "array([4.2, 3.6, 2.9, 3.4, 3.3, 3.8, 3.2, 3.1, 4.1, 3.9, 3.7, 4. , 4.3,\n",
       "       3. , 3.5, 2.6, 2.8, 4.5, 2.7, 4.4, 2.1, 2.4, 4.7, 4.6, 2.5, 4.8,\n",
       "       2.3])"
      ]
     },
     "execution_count": 52,
     "metadata": {},
     "output_type": "execute_result"
    }
   ],
   "source": [
    "test['Rating_Clean'].unique()"
   ]
  },
  {
   "cell_type": "code",
   "execution_count": 53,
   "id": "173434cf",
   "metadata": {
    "scrolled": true
   },
   "outputs": [
    {
     "data": {
      "text/plain": [
       "array([3.5, 3.6, 3.7, 3.2, 3.8, 4. , 3.9, 4.2, 2.8, 3. , 3.3, 3.1, 4.7,\n",
       "       3.4, 4.1, 2.9, 4.6, 4.3, 2.6, 4.5, 4.4, 4.8, 2.4, 2.7, 2.5, 2.2,\n",
       "       4.9, 2.3, 2.1])"
      ]
     },
     "execution_count": 53,
     "metadata": {},
     "output_type": "execute_result"
    }
   ],
   "source": [
    "train['Rating_Clean'].unique()"
   ]
  },
  {
   "cell_type": "code",
   "execution_count": 54,
   "id": "c889ab24",
   "metadata": {},
   "outputs": [],
   "source": [
    "# Now we will clean the column 'Votes' for both datasets and will store cleaned date in new columns"
   ]
  },
  {
   "cell_type": "code",
   "execution_count": 55,
   "id": "7a775a46",
   "metadata": {},
   "outputs": [
    {
     "data": {
      "text/plain": [
       "array(['361', '-', '36', '66', '38', '16', '72', '46', '5', '123', '9',\n",
       "       '75', '134', '4', '80', '277', '288', '290', '30', '659', '145',\n",
       "       '61', '8', '94', '119', '242', '977', '168', '607', '527', '27',\n",
       "       '20', '67', '128', '31', '291', '152', '528', '150', '91', '169',\n",
       "       '275', '41', '18', '19', '467', '1372', '81', '239', '52', '10',\n",
       "       '53', '1319', '7', '1094', '189', '35', '1003', '39', '12', '51',\n",
       "       '6', '99', '24', '14', '283', '174', '15', '287', '13', '57', '32',\n",
       "       '271', '122', '44', '29', '729', '25', '393', '1485', '580', '96',\n",
       "       '367', '22', '413', '85', '755', '106', '929', '33', '95', '463',\n",
       "       '109', '77', '48', '371', '64', '335', '498', '400', '78', '544',\n",
       "       '23', '108', '1666', '11', '954', '34', '84', '526', '156', '133',\n",
       "       '141', '93', '103', '406', '286', '2314', '116', '87', '245',\n",
       "       '644', '346', '45', '819', '351', '259', '163', '151', '255',\n",
       "       '185', '47', '570', '248', '54', '798', '1489', '140', '50', '17',\n",
       "       '92', '447', '98', '121', '165', '574', '576', '65', '135', '190',\n",
       "       '366', '28', '147', '589', '132', '107', '73', '58', '817', '82',\n",
       "       '173', '237', '306', '112', '186', '171', '131', '330', '1719',\n",
       "       '74', '511', '21', '438', '489', '194', '40', '232', '56', '356',\n",
       "       '193', '769', '88', '184', '550', '252', '43', '709', '723', '146',\n",
       "       '785', '1210', '126', '172', '1838', '3067', '83', '344', '55',\n",
       "       '1025', '2606', '69', '97', '136', '90', '216', '308', '42', '113',\n",
       "       '391', '336', '71', '385', '226', '689', '161', '409', '217',\n",
       "       '203', '100', '256', '137', '624', '37', '281', '254', '101',\n",
       "       '420', '651', '1632', '243', '510', '212', '657', '600', '139',\n",
       "       '233', '124', '222', '89', '567', '455', '725', '4606', '227',\n",
       "       '79', '297', '59', '424', '727', '197', '324', '260', '62', '49',\n",
       "       '196', '322', '318', '582', '453', '575', '897', '223', '374',\n",
       "       '358', '401', '251', '733', '917', '224', '303', '3257', '3142',\n",
       "       '153', '195', '180', '441', '541', '554', '1090', '437', '284',\n",
       "       '148', '500', '1031', '610', '110', '2625', '478', '114', '532',\n",
       "       '86', '285', '783', '177', '205', '162', '1147', '118', '466',\n",
       "       '339', '762', '504', '63', '319', '565', '606', '796', '115',\n",
       "       '102', '76', '687', '362', '127', '1850', '104', '157', '1134',\n",
       "       '268', '716', '60', '394', '320', '26', '403', '158', '828',\n",
       "       '1168', '314', '70', '626', '343', '348', '138', '878', '773',\n",
       "       '280', '353', '772', '767', '1929', '178', '862', '200', '407',\n",
       "       '1177', '130', '129', '311', '426', '891', '628', '166', '1806',\n",
       "       '1459', '201', '125', '117', '410', '170', '1533', '1493', '1612',\n",
       "       '3535', '269', '289', '882', '187', '392', '956', '444', '176',\n",
       "       '598', '3346', '236', '225', '215', '655', '317', '980', '209',\n",
       "       '1328', '326', '2595', '247', '258', '1105', '214', '182', '1077',\n",
       "       '266', '616', '1255', '1977', '627', '120', '1409', '450', '656',\n",
       "       '547', '6277', '313', '328', '502', '359', '3404', '345', '183',\n",
       "       '2297', '105', '1017', '347', '230', '192', '905', '1594', '1508',\n",
       "       '564', '433', '529', '238', '446', '613', '476', '686', '202',\n",
       "       '491', '571', '1596', '3460', '786', '422', '534', '210', '523',\n",
       "       '771', '585', '298', '325', '650', '2133', '745', '537', '1422',\n",
       "       '474', '206', '588', '1188', '1274', '382', '513', '402', '726',\n",
       "       '2422', '643', '591', '235', '219', '300', '149', '159', '1330',\n",
       "       '823', '164', '1195', '965', '1155', '436', '738', '7811', '267',\n",
       "       '204', '454', '68', '309', '712', '3577', '221', '886', '188',\n",
       "       '2408', '257', '304', '978', '179', '1505', '2868', '1322', '2214',\n",
       "       '423', '207', '566', '262', '2768', '1183', '296', '4207', '855',\n",
       "       '1307', '368', '323', '341', '1138', '713', '895', '5964', '3435',\n",
       "       '3353', '439', '199', '652', '273', '211', '3760', '305', '294',\n",
       "       '3588', '531', '4179', '973', '636', '499', '621', '299', '1433',\n",
       "       '2862', '1389', '702', '672', '551', '919', '472', '684', '818',\n",
       "       '363', '1428', '540', '228', '208', '535', '431', '519', '465',\n",
       "       '1717', '435', '387', '386', '724', '213', '1740', '167', '584',\n",
       "       '329', '198', '1332', '321', '263', '390', '276', '966', '1626',\n",
       "       '696', '1038', '555', '5197', '508', '365', '3289', '2664', '743',\n",
       "       '715', '144', '611', '518', '292', '666', '605', '967', '175',\n",
       "       '220', '1256'], dtype=object)"
      ]
     },
     "execution_count": 55,
     "metadata": {},
     "output_type": "execute_result"
    }
   ],
   "source": [
    "test['Votes'].unique()"
   ]
  },
  {
   "cell_type": "code",
   "execution_count": 56,
   "id": "80d4261a",
   "metadata": {},
   "outputs": [
    {
     "data": {
      "text/plain": [
       "array(['12', '11', '99', ..., '290', '698', '3700'], dtype=object)"
      ]
     },
     "execution_count": 56,
     "metadata": {},
     "output_type": "execute_result"
    }
   ],
   "source": [
    "train['Votes'].unique()"
   ]
  },
  {
   "cell_type": "code",
   "execution_count": 57,
   "id": "26cee29c",
   "metadata": {},
   "outputs": [],
   "source": [
    "# We will replace all non numeric values with the mean. For this, we will create a function that will do the needful. dtype-int"
   ]
  },
  {
   "cell_type": "code",
   "execution_count": 58,
   "id": "1ab4bc39",
   "metadata": {},
   "outputs": [],
   "source": [
    "def replace_non_numeric_with_mean_int(df, column_name, column_name_new):\n",
    "    # Convert non-numeric values to NaN\n",
    "    df[column_name_new] = pd.to_numeric(df[column_name], errors='coerce')\n",
    "\n",
    "    # Calculate the mean excluding NaN values\n",
    "    mean_value = df[column_name_new].mean(skipna=True)\n",
    "\n",
    "    # Replace NaN values with the mean, converting it to integer\n",
    "    df[column_name_new].fillna(mean_value, inplace=True)\n",
    "\n",
    "    # Change 'Rating_Clean' column datatype to int\n",
    "    df[column_name_new] = df[column_name_new].astype(int)"
   ]
  },
  {
   "cell_type": "code",
   "execution_count": 59,
   "id": "c918ac58",
   "metadata": {},
   "outputs": [],
   "source": [
    "# Apply the function to DataFrame 'test & train' and their respective 'Votes' columns"
   ]
  },
  {
   "cell_type": "code",
   "execution_count": 60,
   "id": "8eab57f3",
   "metadata": {},
   "outputs": [],
   "source": [
    "replace_non_numeric_with_mean_int(test, 'Votes', 'Votes_Clean')\n",
    "replace_non_numeric_with_mean_int(train, 'Votes', 'Votes_Clean')"
   ]
  },
  {
   "cell_type": "code",
   "execution_count": 61,
   "id": "96c8132d",
   "metadata": {},
   "outputs": [],
   "source": [
    "# Now we will check whether formula made changes or not"
   ]
  },
  {
   "cell_type": "code",
   "execution_count": 62,
   "id": "787df47f",
   "metadata": {},
   "outputs": [
    {
     "data": {
      "text/plain": [
       "array([ 361,  226,   36,   66,   38,   16,   72,   46,    5,  123,    9,\n",
       "         75,  134,    4,   80,  277,  288,  290,   30,  659,  145,   61,\n",
       "          8,   94,  119,  242,  977,  168,  607,  527,   27,   20,   67,\n",
       "        128,   31,  291,  152,  528,  150,   91,  169,  275,   41,   18,\n",
       "         19,  467, 1372,   81,  239,   52,   10,   53, 1319,    7, 1094,\n",
       "        189,   35, 1003,   39,   12,   51,    6,   99,   24,   14,  283,\n",
       "        174,   15,  287,   13,   57,   32,  271,  122,   44,   29,  729,\n",
       "         25,  393, 1485,  580,   96,  367,   22,  413,   85,  755,  106,\n",
       "        929,   33,   95,  463,  109,   77,   48,  371,   64,  335,  498,\n",
       "        400,   78,  544,   23,  108, 1666,   11,  954,   34,   84,  526,\n",
       "        156,  133,  141,   93,  103,  406,  286, 2314,  116,   87,  245,\n",
       "        644,  346,   45,  819,  351,  259,  163,  151,  255,  185,   47,\n",
       "        570,  248,   54,  798, 1489,  140,   50,   17,   92,  447,   98,\n",
       "        121,  165,  574,  576,   65,  135,  190,  366,   28,  147,  589,\n",
       "        132,  107,   73,   58,  817,   82,  173,  237,  306,  112,  186,\n",
       "        171,  131,  330, 1719,   74,  511,   21,  438,  489,  194,   40,\n",
       "        232,   56,  356,  193,  769,   88,  184,  550,  252,   43,  709,\n",
       "        723,  146,  785, 1210,  126,  172, 1838, 3067,   83,  344,   55,\n",
       "       1025, 2606,   69,   97,  136,   90,  216,  308,   42,  113,  391,\n",
       "        336,   71,  385,  689,  161,  409,  217,  203,  100,  256,  137,\n",
       "        624,   37,  281,  254,  101,  420,  651, 1632,  243,  510,  212,\n",
       "        657,  600,  139,  233,  124,  222,   89,  567,  455,  725, 4606,\n",
       "        227,   79,  297,   59,  424,  727,  197,  324,  260,   62,   49,\n",
       "        196,  322,  318,  582,  453,  575,  897,  223,  374,  358,  401,\n",
       "        251,  733,  917,  224,  303, 3257, 3142,  153,  195,  180,  441,\n",
       "        541,  554, 1090,  437,  284,  148,  500, 1031,  610,  110, 2625,\n",
       "        478,  114,  532,   86,  285,  783,  177,  205,  162, 1147,  118,\n",
       "        466,  339,  762,  504,   63,  319,  565,  606,  796,  115,  102,\n",
       "         76,  687,  362,  127, 1850,  104,  157, 1134,  268,  716,   60,\n",
       "        394,  320,   26,  403,  158,  828, 1168,  314,   70,  626,  343,\n",
       "        348,  138,  878,  773,  280,  353,  772,  767, 1929,  178,  862,\n",
       "        200,  407, 1177,  130,  129,  311,  426,  891,  628,  166, 1806,\n",
       "       1459,  201,  125,  117,  410,  170, 1533, 1493, 1612, 3535,  269,\n",
       "        289,  882,  187,  392,  956,  444,  176,  598, 3346,  236,  225,\n",
       "        215,  655,  317,  980,  209, 1328,  326, 2595,  247,  258, 1105,\n",
       "        214,  182, 1077,  266,  616, 1255, 1977,  627,  120, 1409,  450,\n",
       "        656,  547, 6277,  313,  328,  502,  359, 3404,  345,  183, 2297,\n",
       "        105, 1017,  347,  230,  192,  905, 1594, 1508,  564,  433,  529,\n",
       "        238,  446,  613,  476,  686,  202,  491,  571, 1596, 3460,  786,\n",
       "        422,  534,  210,  523,  771,  585,  298,  325,  650, 2133,  745,\n",
       "        537, 1422,  474,  206,  588, 1188, 1274,  382,  513,  402,  726,\n",
       "       2422,  643,  591,  235,  219,  300,  149,  159, 1330,  823,  164,\n",
       "       1195,  965, 1155,  436,  738, 7811,  267,  204,  454,   68,  309,\n",
       "        712, 3577,  221,  886,  188, 2408,  257,  304,  978,  179, 1505,\n",
       "       2868, 1322, 2214,  423,  207,  566,  262, 2768, 1183,  296, 4207,\n",
       "        855, 1307,  368,  323,  341, 1138,  713,  895, 5964, 3435, 3353,\n",
       "        439,  199,  652,  273,  211, 3760,  305,  294, 3588,  531, 4179,\n",
       "        973,  636,  499,  621,  299, 1433, 2862, 1389,  702,  672,  551,\n",
       "        919,  472,  684,  818,  363, 1428,  540,  228,  208,  535,  431,\n",
       "        519,  465, 1717,  435,  387,  386,  724,  213, 1740,  167,  584,\n",
       "        329,  198, 1332,  321,  263,  390,  276,  966, 1626,  696, 1038,\n",
       "        555, 5197,  508,  365, 3289, 2664,  743,  715,  144,  611,  518,\n",
       "        292,  666,  605,  967,  175,  220, 1256])"
      ]
     },
     "execution_count": 62,
     "metadata": {},
     "output_type": "execute_result"
    }
   ],
   "source": [
    "test['Votes_Clean'].unique()"
   ]
  },
  {
   "cell_type": "code",
   "execution_count": 63,
   "id": "820bf0d2",
   "metadata": {},
   "outputs": [
    {
     "data": {
      "text/plain": [
       "array([  12,   11,   99, ...,  290,  698, 3700])"
      ]
     },
     "execution_count": 63,
     "metadata": {},
     "output_type": "execute_result"
    }
   ],
   "source": [
    "train['Votes_Clean'].unique()"
   ]
  },
  {
   "cell_type": "code",
   "execution_count": 64,
   "id": "85a934b3",
   "metadata": {},
   "outputs": [],
   "source": [
    "# Now we will clean the column 'Reviews' for both datasets and will store cleaned date in new columns"
   ]
  },
  {
   "cell_type": "code",
   "execution_count": 65,
   "id": "502391bd",
   "metadata": {},
   "outputs": [
    {
     "data": {
      "text/plain": [
       "array(['225', '-', '16', '33', '14', '11', '10', '29', '2', '63', '1',\n",
       "       '38', '47', '143', '147', '178', '4', '404', '12', '3', '26', '39',\n",
       "       '51', '163', '627', '61', '102', '323', '242', '5', '37', '62',\n",
       "       '19', '174', '20', '295', '64', '22', '153', '13', '7', '6', '228',\n",
       "       '609', '40', '32', '27', '24', '659', '249', '59', '278', '17',\n",
       "       '67', '93', '9', '155', '35', '15', '69', '45', '274', '752', '8',\n",
       "       '378', '41', '217', '279', '444', '633', '66', '283', '21', '97',\n",
       "       '48', '237', '271', '28', '195', '876', '575', '43', '170', '25',\n",
       "       '200', '56', '53', '111', '77', '57', '120', '441', '165', '34',\n",
       "       '42', '86', '18', '23', '319', '346', '664', '80', '30', '246',\n",
       "       '204', '88', '232', '91', '49', '103', '60', '58', '90', '197',\n",
       "       '71', '44', '114', '156', '1260', '241', '107', '127', '133', '70',\n",
       "       '50', '179', '189', '468', '92', '503', '152', '1409', '2174',\n",
       "       '104', '1392', '220', '72', '101', '175', '542', '302', '83',\n",
       "       '341', '275', '55', '84', '81', '46', '79', '223', '320', '126',\n",
       "       '141', '264', '149', '1183', '73', '230', '96', '298', '74', '332',\n",
       "       '182', '265', '373', '112', '2311', '99', '168', '199', '527',\n",
       "       '122', '68', '137', '451', '36', '115', '211', '294', '312', '31',\n",
       "       '568', '121', '184', '183', '105', '222', '117', '52', '544',\n",
       "       '129', '157', '2540', '2036', '131', '358', '377', '215', '82',\n",
       "       '253', '1439', '54', '191', '167', '548', '393', '369', '172',\n",
       "       '347', '426', '440', '78', '125', '1191', '648', '106', '539',\n",
       "       '245', '148', '601', '176', '304', '89', '150', '570', '299',\n",
       "       '449', '287', '581', '244', '240', '1085', '65', '352', '123',\n",
       "       '696', '229', '196', '541', '429', '922', '682', '219', '135',\n",
       "       '188', '894', '748', '1631', '452', '431', '331', '164', '1641',\n",
       "       '159', '95', '100', '718', '805', '1002', '113', '594', '318',\n",
       "       '495', '995', '169', '865', '285', '409', '2910', '140', '158',\n",
       "       '154', '151', '192', '1914', '1313', '582', '628', '203', '751',\n",
       "       '239', '303', '897', '499', '311', '328', '166', '339', '307',\n",
       "       '160', '388', '238', '900', '1723', '205', '144', '206', '394',\n",
       "       '134', '231', '110', '76', '423', '1005', '119', '351', '646',\n",
       "       '124', '259', '367', '235', '218', '209', '185', '385', '382',\n",
       "       '1589', '116', '593', '520', '173', '620', '118', '845', '400',\n",
       "       '3718', '139', '376', '187', '405', '2640', '637', '98', '1520',\n",
       "       '407', '87', '360', '996', '1681', '606', '1457', '1369', '2167',\n",
       "       '794', '190', '177', '248', '326', '621', '3503', '1905', '1532',\n",
       "       '75', '1636', '85', '132', '161', '2421', '255', '1605', '704',\n",
       "       '357', '251', '305', '142', '1464', '699', '361', '828', '208',\n",
       "       '221', '781', '399', '1340', '668', '146', '563', '474', '145',\n",
       "       '108', '395', '1031', '109', '333', '3863', '2454', '1356', '422',\n",
       "       '453', '314', '269', '731'], dtype=object)"
      ]
     },
     "execution_count": 65,
     "metadata": {},
     "output_type": "execute_result"
    }
   ],
   "source": [
    "test['Reviews'].unique()"
   ]
  },
  {
   "cell_type": "code",
   "execution_count": 66,
   "id": "007d2578",
   "metadata": {},
   "outputs": [
    {
     "data": {
      "text/plain": [
       "array(['4', '30', '95', '235', '18', '31', '1235', '26', '294', '61',\n",
       "       '1239', '-', '128', '5', '53', '47', '46', '23', '160', '2', '1',\n",
       "       '38', '9', '19', '7', '132', '74', '13', '111', '499', '29', '34',\n",
       "       '851', '513', '22', '27', '32', '25', '37', '8', '35', '6', '173',\n",
       "       '36', '15', '174', '11', '59', '16', '89', '170', '10', '1660',\n",
       "       '71', '41', '20', '40', '3', '191', '105', '100', '106', '21',\n",
       "       '65', '69', '2547', '159', '110', '42', '181', '109', '179', '490',\n",
       "       '28', '343', '118', '690', '72', '296', '33', '164', '50', '129',\n",
       "       '1581', '234', '45', '2363', '24', '115', '12', '138', '175', '39',\n",
       "       '66', '1603', '1443', '390', '108', '1457', '112', '107', '259',\n",
       "       '269', '52', '196', '794', '589', '48', '145', '536', '247', '17',\n",
       "       '49', '245', '87', '83', '54', '453', '318', '99', '205', '165',\n",
       "       '1845', '766', '114', '44', '51', '104', '478', '70', '232', '435',\n",
       "       '14', '659', '554', '399', '77', '88', '503', '55', '57', '855',\n",
       "       '301', '305', '94', '336', '307', '1369', '76', '124', '1131',\n",
       "       '155', '90', '366', '256', '739', '64', '351', '141', '169', '121',\n",
       "       '240', '556', '220', '502', '80', '176', '691', '102', '621',\n",
       "       '310', '391', '142', '721', '56', '189', '139', '1062', '97',\n",
       "       '741', '565', '972', '98', '187', '314', '60', '136', '214', '167',\n",
       "       '123', '67', '572', '171', '183', '84', '252', '120', '119', '758',\n",
       "       '258', '199', '287', '62', '579', '455', '131', '845', '127',\n",
       "       '906', '1948', '465', '143', '1673', '1174', '484', '152', '248',\n",
       "       '236', '204', '85', '207', '609', '231', '1150', '671', '322',\n",
       "       '1095', '233', '43', '668', '257', '158', '372', '285', '215',\n",
       "       '950', '357', '193', '260', '899', '126', '335', '1415', '249',\n",
       "       '243', '254', '241', '268', '116', '547', '58', '63', '1276',\n",
       "       '941', '81', '188', '849', '79', '696', '317', '400', '148', '86',\n",
       "       '168', '101', '153', '1356', '78', '242', '728', '6504', '860',\n",
       "       '226', '230', '206', '1260', '320', '184', '986', '560', '172',\n",
       "       '68', '96', '751', '545', '202', '3989', '423', '137', '432',\n",
       "       '539', '675', '278', '574', '177', '113', '410', '360', '405',\n",
       "       '2359', '938', '117', '1133', '819', '1211', '224', '91', '426',\n",
       "       '358', '362', '892', '208', '581', '652', '1962', '981', '125',\n",
       "       '325', '210', '147', '925', '437', '593', '251', '292', '238',\n",
       "       '73', '225', '387', '681', '965', '133', '370', '450', '163',\n",
       "       '154', '382', '580', '201', '518', '262', '626', '2311', '1336',\n",
       "       '2576', '569', '244', '273', '530', '1631', '459', '304', '157',\n",
       "       '1306', '383', '272', '246', '103', '228', '178', '151', '186',\n",
       "       '472', '135', '1370', '563', '2224', '444', '1138', '650', '192',\n",
       "       '407', '540', '93', '303', '1112', '264', '485', '195', '584',\n",
       "       '341', '977', '2167', '1067', '566', '212', '222', '277', '291',\n",
       "       '306', '647', '424', '421', '461', '237', '600', '582', '2126',\n",
       "       '495', '82', '1617', '2340', '364', '130', '1031', '290', '2640',\n",
       "       '2171', '772', '1875', '1002', '771', '1914', '219', '830', '346',\n",
       "       '250', '282', '328', '527', '75', '1164', '1804', '512', '409',\n",
       "       '369', '255', '319', '525', '923', '276', '406', '211', '140',\n",
       "       '1061', '229', '2490', '997', '633', '144', '926', '464', '1289',\n",
       "       '1200', '352', '497', '265', '299', '1605', '662', '436', '1479',\n",
       "       '736', '809', '209', '805', '122', '353', '3371', '344', '2303',\n",
       "       '323', '185', '1708', '699', '412', '439', '1191', '1961', '548',\n",
       "       '1005', '707', '279', '150', '506', '1589', '388', '134', '538',\n",
       "       '340', '999', '156', '355', '457', '2217', '338', '2212', '887',\n",
       "       '777', '1444', '635', '971', '149', '297', '393', '1165', '397',\n",
       "       '1319', '146', '218', '194', '482', '431', '385', '394', '1818',\n",
       "       '983', '1967', '1501', '1538', '274', '2931', '227', '308', '266',\n",
       "       '342', '815', '544', '500', '434', '1079', '567', '634', '221',\n",
       "       '1091', '2808', '377', '992', '1199', '603', '467', '348', '2036',\n",
       "       '726', '438', '389', '734', '1510', '498', '1971', '197', '463',\n",
       "       '532', '1318', '885', '1046', '1412', '1509', '381', '347', '270',\n",
       "       '2084', '415', '1116', '1084', '1429', '324', '651', '334', '384',\n",
       "       '1093', '897', '1532', '1798', '533', '471', '1159', '253', '667',\n",
       "       '263', '1819', '2454', '1992', '161', '763', '2143', '5558', '553',\n",
       "       '2203', '876', '380', '223', '198', '508', '281', '2649', '571',\n",
       "       '1172', '767', '529', '774', '606', '417', '2724', '182', '872',\n",
       "       '332', '217', '1508', '587', '329', '1616', '293', '190', '2936',\n",
       "       '92', '1130', '991', '719', '312', '333', '2922', '858', '458',\n",
       "       '840', '1213', '1251', '695', '413', '511', '1263', '1877', '1135',\n",
       "       '1246', '280', '823', '848', '895', '474', '371', '937', '519',\n",
       "       '2940', '213', '743', '1317', '2155', '800', '368', '883', '516',\n",
       "       '714', '392', '200', '313', '162', '888', '375', '1464', '682',\n",
       "       '1641', '354', '705', '655', '446', '468', '896', '331', '3337',\n",
       "       '350', '1357', '947', '604', '414', '967', '379', '952', '1979',\n",
       "       '764', '801', '309', '1956', '664', '1252', '1028', '466', '543',\n",
       "       '448', '602', '1148', '514', '748', '2503', '361', '302', '959',\n",
       "       '781', '2567', '510', '1009', '359', '494', '1734', '339', '326',\n",
       "       '625', '1329', '288', '449', '2098', '2031', '561', '316', '321',\n",
       "       '289', '430', '520', '646', '677', '559', '818', '995', '271',\n",
       "       '630', '528', '605', '1224', '704', '577', '475', '456', '1225',\n",
       "       '1161', '419', '3019', '441', '166', '275', '575', '2146', '1073',\n",
       "       '402', '889', '180', '761', '3753', '788', '418', '1787', '875',\n",
       "       '261', '239', '550', '476', '1353', '628', '4966', '710', '737',\n",
       "       '492', '515', '558', '378', '1414', '1890', '477', '1681', '570',\n",
       "       '422', '2483', '549'], dtype=object)"
      ]
     },
     "execution_count": 66,
     "metadata": {},
     "output_type": "execute_result"
    }
   ],
   "source": [
    "train['Reviews'].unique()"
   ]
  },
  {
   "cell_type": "code",
   "execution_count": 67,
   "id": "7ffb138b",
   "metadata": {},
   "outputs": [],
   "source": [
    "# Apply the function \"replace_non_numeric_with_mean_int\" to DataFrame 'test & train' and their respective 'Reviews' columns"
   ]
  },
  {
   "cell_type": "code",
   "execution_count": 68,
   "id": "a6286963",
   "metadata": {},
   "outputs": [],
   "source": [
    "replace_non_numeric_with_mean_int(test, 'Reviews', 'Reviews_Clean')\n",
    "replace_non_numeric_with_mean_int(train, 'Reviews', 'Reviews_Clean')"
   ]
  },
  {
   "cell_type": "code",
   "execution_count": 69,
   "id": "557d66e6",
   "metadata": {},
   "outputs": [],
   "source": [
    "# Now we will check whether formula made changes or not"
   ]
  },
  {
   "cell_type": "code",
   "execution_count": 70,
   "id": "00fab98c",
   "metadata": {},
   "outputs": [
    {
     "data": {
      "text/plain": [
       "array([ 225,  111,   16,   33,   14,   11,   10,   29,    2,   63,    1,\n",
       "         38,   47,  143,  147,  178,    4,  404,   12,    3,   26,   39,\n",
       "         51,  163,  627,   61,  102,  323,  242,    5,   37,   62,   19,\n",
       "        174,   20,  295,   64,   22,  153,   13,    7,    6,  228,  609,\n",
       "         40,   32,   27,   24,  659,  249,   59,  278,   17,   67,   93,\n",
       "          9,  155,   35,   15,   69,   45,  274,  752,    8,  378,   41,\n",
       "        217,  279,  444,  633,   66,  283,   21,   97,   48,  237,  271,\n",
       "         28,  195,  876,  575,   43,  170,   25,  200,   56,   53,   77,\n",
       "         57,  120,  441,  165,   34,   42,   86,   18,   23,  319,  346,\n",
       "        664,   80,   30,  246,  204,   88,  232,   91,   49,  103,   60,\n",
       "         58,   90,  197,   71,   44,  114,  156, 1260,  241,  107,  127,\n",
       "        133,   70,   50,  179,  189,  468,   92,  503,  152, 1409, 2174,\n",
       "        104, 1392,  220,   72,  101,  175,  542,  302,   83,  341,  275,\n",
       "         55,   84,   81,   46,   79,  223,  320,  126,  141,  264,  149,\n",
       "       1183,   73,  230,   96,  298,   74,  332,  182,  265,  373,  112,\n",
       "       2311,   99,  168,  199,  527,  122,   68,  137,  451,   36,  115,\n",
       "        211,  294,  312,   31,  568,  121,  184,  183,  105,  222,  117,\n",
       "         52,  544,  129,  157, 2540, 2036,  131,  358,  377,  215,   82,\n",
       "        253, 1439,   54,  191,  167,  548,  393,  369,  172,  347,  426,\n",
       "        440,   78,  125, 1191,  648,  106,  539,  245,  148,  601,  176,\n",
       "        304,   89,  150,  570,  299,  449,  287,  581,  244,  240, 1085,\n",
       "         65,  352,  123,  696,  229,  196,  541,  429,  922,  682,  219,\n",
       "        135,  188,  894,  748, 1631,  452,  431,  331,  164, 1641,  159,\n",
       "         95,  100,  718,  805, 1002,  113,  594,  318,  495,  995,  169,\n",
       "        865,  285,  409, 2910,  140,  158,  154,  151,  192, 1914, 1313,\n",
       "        582,  628,  203,  751,  239,  303,  897,  499,  311,  328,  166,\n",
       "        339,  307,  160,  388,  238,  900, 1723,  205,  144,  206,  394,\n",
       "        134,  231,  110,   76,  423, 1005,  119,  351,  646,  124,  259,\n",
       "        367,  235,  218,  209,  185,  385,  382, 1589,  116,  593,  520,\n",
       "        173,  620,  118,  845,  400, 3718,  139,  376,  187,  405, 2640,\n",
       "        637,   98, 1520,  407,   87,  360,  996, 1681,  606, 1457, 1369,\n",
       "       2167,  794,  190,  177,  248,  326,  621, 3503, 1905, 1532,   75,\n",
       "       1636,   85,  132,  161, 2421,  255, 1605,  704,  357,  251,  305,\n",
       "        142, 1464,  699,  361,  828,  208,  221,  781,  399, 1340,  668,\n",
       "        146,  563,  474,  145,  108,  395, 1031,  109,  333, 3863, 2454,\n",
       "       1356,  422,  453,  314,  269,  731])"
      ]
     },
     "execution_count": 70,
     "metadata": {},
     "output_type": "execute_result"
    }
   ],
   "source": [
    "test['Reviews_Clean'].unique()"
   ]
  },
  {
   "cell_type": "code",
   "execution_count": 71,
   "id": "044bdd0a",
   "metadata": {},
   "outputs": [
    {
     "data": {
      "text/plain": [
       "array([   4,   30,   95,  235,   18,   31, 1235,   26,  294,   61, 1239,\n",
       "        123,  128,    5,   53,   47,   46,   23,  160,    2,    1,   38,\n",
       "          9,   19,    7,  132,   74,   13,  111,  499,   29,   34,  851,\n",
       "        513,   22,   27,   32,   25,   37,    8,   35,    6,  173,   36,\n",
       "         15,  174,   11,   59,   16,   89,  170,   10, 1660,   71,   41,\n",
       "         20,   40,    3,  191,  105,  100,  106,   21,   65,   69, 2547,\n",
       "        159,  110,   42,  181,  109,  179,  490,   28,  343,  118,  690,\n",
       "         72,  296,   33,  164,   50,  129, 1581,  234,   45, 2363,   24,\n",
       "        115,   12,  138,  175,   39,   66, 1603, 1443,  390,  108, 1457,\n",
       "        112,  107,  259,  269,   52,  196,  794,  589,   48,  145,  536,\n",
       "        247,   17,   49,  245,   87,   83,   54,  453,  318,   99,  205,\n",
       "        165, 1845,  766,  114,   44,   51,  104,  478,   70,  232,  435,\n",
       "         14,  659,  554,  399,   77,   88,  503,   55,   57,  855,  301,\n",
       "        305,   94,  336,  307, 1369,   76,  124, 1131,  155,   90,  366,\n",
       "        256,  739,   64,  351,  141,  169,  121,  240,  556,  220,  502,\n",
       "         80,  176,  691,  102,  621,  310,  391,  142,  721,   56,  189,\n",
       "        139, 1062,   97,  741,  565,  972,   98,  187,  314,   60,  136,\n",
       "        214,  167,   67,  572,  171,  183,   84,  252,  120,  119,  758,\n",
       "        258,  199,  287,   62,  579,  455,  131,  845,  127,  906, 1948,\n",
       "        465,  143, 1673, 1174,  484,  152,  248,  236,  204,   85,  207,\n",
       "        609,  231, 1150,  671,  322, 1095,  233,   43,  668,  257,  158,\n",
       "        372,  285,  215,  950,  357,  193,  260,  899,  126,  335, 1415,\n",
       "        249,  243,  254,  241,  268,  116,  547,   58,   63, 1276,  941,\n",
       "         81,  188,  849,   79,  696,  317,  400,  148,   86,  168,  101,\n",
       "        153, 1356,   78,  242,  728, 6504,  860,  226,  230,  206, 1260,\n",
       "        320,  184,  986,  560,  172,   68,   96,  751,  545,  202, 3989,\n",
       "        423,  137,  432,  539,  675,  278,  574,  177,  113,  410,  360,\n",
       "        405, 2359,  938,  117, 1133,  819, 1211,  224,   91,  426,  358,\n",
       "        362,  892,  208,  581,  652, 1962,  981,  125,  325,  210,  147,\n",
       "        925,  437,  593,  251,  292,  238,   73,  225,  387,  681,  965,\n",
       "        133,  370,  450,  163,  154,  382,  580,  201,  518,  262,  626,\n",
       "       2311, 1336, 2576,  569,  244,  273,  530, 1631,  459,  304,  157,\n",
       "       1306,  383,  272,  246,  103,  228,  178,  151,  186,  472,  135,\n",
       "       1370,  563, 2224,  444, 1138,  650,  192,  407,  540,   93,  303,\n",
       "       1112,  264,  485,  195,  584,  341,  977, 2167, 1067,  566,  212,\n",
       "        222,  277,  291,  306,  647,  424,  421,  461,  237,  600,  582,\n",
       "       2126,  495,   82, 1617, 2340,  364,  130, 1031,  290, 2640, 2171,\n",
       "        772, 1875, 1002,  771, 1914,  219,  830,  346,  250,  282,  328,\n",
       "        527,   75, 1164, 1804,  512,  409,  369,  255,  319,  525,  923,\n",
       "        276,  406,  211,  140, 1061,  229, 2490,  997,  633,  144,  926,\n",
       "        464, 1289, 1200,  352,  497,  265,  299, 1605,  662,  436, 1479,\n",
       "        736,  809,  209,  805,  122,  353, 3371,  344, 2303,  323,  185,\n",
       "       1708,  699,  412,  439, 1191, 1961,  548, 1005,  707,  279,  150,\n",
       "        506, 1589,  388,  134,  538,  340,  999,  156,  355,  457, 2217,\n",
       "        338, 2212,  887,  777, 1444,  635,  971,  149,  297,  393, 1165,\n",
       "        397, 1319,  146,  218,  194,  482,  431,  385,  394, 1818,  983,\n",
       "       1967, 1501, 1538,  274, 2931,  227,  308,  266,  342,  815,  544,\n",
       "        500,  434, 1079,  567,  634,  221, 1091, 2808,  377,  992, 1199,\n",
       "        603,  467,  348, 2036,  726,  438,  389,  734, 1510,  498, 1971,\n",
       "        197,  463,  532, 1318,  885, 1046, 1412, 1509,  381,  347,  270,\n",
       "       2084,  415, 1116, 1084, 1429,  324,  651,  334,  384, 1093,  897,\n",
       "       1532, 1798,  533,  471, 1159,  253,  667,  263, 1819, 2454, 1992,\n",
       "        161,  763, 2143, 5558,  553, 2203,  876,  380,  223,  198,  508,\n",
       "        281, 2649,  571, 1172,  767,  529,  774,  606,  417, 2724,  182,\n",
       "        872,  332,  217, 1508,  587,  329, 1616,  293,  190, 2936,   92,\n",
       "       1130,  991,  719,  312,  333, 2922,  858,  458,  840, 1213, 1251,\n",
       "        695,  413,  511, 1263, 1877, 1135, 1246,  280,  823,  848,  895,\n",
       "        474,  371,  937,  519, 2940,  213,  743, 1317, 2155,  800,  368,\n",
       "        883,  516,  714,  392,  200,  313,  162,  888,  375, 1464,  682,\n",
       "       1641,  354,  705,  655,  446,  468,  896,  331, 3337,  350, 1357,\n",
       "        947,  604,  414,  967,  379,  952, 1979,  764,  801,  309, 1956,\n",
       "        664, 1252, 1028,  466,  543,  448,  602, 1148,  514,  748, 2503,\n",
       "        361,  302,  959,  781, 2567,  510, 1009,  359,  494, 1734,  339,\n",
       "        326,  625, 1329,  288,  449, 2098, 2031,  561,  316,  321,  289,\n",
       "        430,  520,  646,  677,  559,  818,  995,  271,  630,  528,  605,\n",
       "       1224,  704,  577,  475,  456, 1225, 1161,  419, 3019,  441,  166,\n",
       "        275,  575, 2146, 1073,  402,  889,  180,  761, 3753,  788,  418,\n",
       "       1787,  875,  261,  239,  550,  476, 1353,  628, 4966,  710,  737,\n",
       "        492,  515,  558,  378, 1414, 1890,  477, 1681,  570,  422, 2483,\n",
       "        549])"
      ]
     },
     "execution_count": 71,
     "metadata": {},
     "output_type": "execute_result"
    }
   ],
   "source": [
    "train['Reviews_Clean'].unique()"
   ]
  },
  {
   "cell_type": "code",
   "execution_count": 72,
   "id": "142786f2",
   "metadata": {},
   "outputs": [
    {
     "data": {
      "text/plain": [
       "Index(['Restaurant', 'Location', 'Cuisines', 'Average_Cost', 'Minimum_Order',\n",
       "       'Rating', 'Votes', 'Reviews', 'Delivery_Time', 'Average_Cost_Clean',\n",
       "       'Minimum_Order_Clean', 'Rating_Clean', 'Votes_Clean', 'Reviews_Clean'],\n",
       "      dtype='object')"
      ]
     },
     "execution_count": 72,
     "metadata": {},
     "output_type": "execute_result"
    }
   ],
   "source": [
    "train.columns"
   ]
  },
  {
   "cell_type": "code",
   "execution_count": 73,
   "id": "84505aef",
   "metadata": {},
   "outputs": [],
   "source": [
    "columns = ['Restaurant','Average_Cost_Clean',\n",
    "       'Minimum_Order_Clean', 'Rating_Clean', 'Votes_Clean', 'Reviews_Clean','Delivery_Time']"
   ]
  },
  {
   "cell_type": "code",
   "execution_count": 74,
   "id": "1766abad",
   "metadata": {},
   "outputs": [],
   "source": [
    "train_sample = train[columns]\n",
    "test_sample = test[columns[0:-1]]"
   ]
  },
  {
   "cell_type": "code",
   "execution_count": 75,
   "id": "991e5db8",
   "metadata": {},
   "outputs": [
    {
     "data": {
      "text/html": [
       "<div>\n",
       "<style scoped>\n",
       "    .dataframe tbody tr th:only-of-type {\n",
       "        vertical-align: middle;\n",
       "    }\n",
       "\n",
       "    .dataframe tbody tr th {\n",
       "        vertical-align: top;\n",
       "    }\n",
       "\n",
       "    .dataframe thead th {\n",
       "        text-align: right;\n",
       "    }\n",
       "</style>\n",
       "<table border=\"1\" class=\"dataframe\">\n",
       "  <thead>\n",
       "    <tr style=\"text-align: right;\">\n",
       "      <th></th>\n",
       "      <th>Restaurant</th>\n",
       "      <th>Average_Cost_Clean</th>\n",
       "      <th>Minimum_Order_Clean</th>\n",
       "      <th>Rating_Clean</th>\n",
       "      <th>Votes_Clean</th>\n",
       "      <th>Reviews_Clean</th>\n",
       "      <th>Delivery_Time</th>\n",
       "    </tr>\n",
       "  </thead>\n",
       "  <tbody>\n",
       "    <tr>\n",
       "      <th>0</th>\n",
       "      <td>ID_6321</td>\n",
       "      <td>200</td>\n",
       "      <td>50</td>\n",
       "      <td>3.5</td>\n",
       "      <td>12</td>\n",
       "      <td>4</td>\n",
       "      <td>30 minutes</td>\n",
       "    </tr>\n",
       "    <tr>\n",
       "      <th>1</th>\n",
       "      <td>ID_2882</td>\n",
       "      <td>100</td>\n",
       "      <td>50</td>\n",
       "      <td>3.5</td>\n",
       "      <td>11</td>\n",
       "      <td>4</td>\n",
       "      <td>30 minutes</td>\n",
       "    </tr>\n",
       "    <tr>\n",
       "      <th>2</th>\n",
       "      <td>ID_1595</td>\n",
       "      <td>150</td>\n",
       "      <td>50</td>\n",
       "      <td>3.6</td>\n",
       "      <td>99</td>\n",
       "      <td>30</td>\n",
       "      <td>65 minutes</td>\n",
       "    </tr>\n",
       "    <tr>\n",
       "      <th>3</th>\n",
       "      <td>ID_5929</td>\n",
       "      <td>250</td>\n",
       "      <td>99</td>\n",
       "      <td>3.7</td>\n",
       "      <td>176</td>\n",
       "      <td>95</td>\n",
       "      <td>30 minutes</td>\n",
       "    </tr>\n",
       "    <tr>\n",
       "      <th>4</th>\n",
       "      <td>ID_6123</td>\n",
       "      <td>200</td>\n",
       "      <td>99</td>\n",
       "      <td>3.2</td>\n",
       "      <td>521</td>\n",
       "      <td>235</td>\n",
       "      <td>65 minutes</td>\n",
       "    </tr>\n",
       "    <tr>\n",
       "      <th>...</th>\n",
       "      <td>...</td>\n",
       "      <td>...</td>\n",
       "      <td>...</td>\n",
       "      <td>...</td>\n",
       "      <td>...</td>\n",
       "      <td>...</td>\n",
       "      <td>...</td>\n",
       "    </tr>\n",
       "    <tr>\n",
       "      <th>11089</th>\n",
       "      <td>ID_8067</td>\n",
       "      <td>250</td>\n",
       "      <td>50</td>\n",
       "      <td>4.2</td>\n",
       "      <td>326</td>\n",
       "      <td>189</td>\n",
       "      <td>30 minutes</td>\n",
       "    </tr>\n",
       "    <tr>\n",
       "      <th>11090</th>\n",
       "      <td>ID_4620</td>\n",
       "      <td>100</td>\n",
       "      <td>50</td>\n",
       "      <td>3.6</td>\n",
       "      <td>36</td>\n",
       "      <td>16</td>\n",
       "      <td>30 minutes</td>\n",
       "    </tr>\n",
       "    <tr>\n",
       "      <th>11091</th>\n",
       "      <td>ID_3392</td>\n",
       "      <td>100</td>\n",
       "      <td>50</td>\n",
       "      <td>3.5</td>\n",
       "      <td>45</td>\n",
       "      <td>18</td>\n",
       "      <td>30 minutes</td>\n",
       "    </tr>\n",
       "    <tr>\n",
       "      <th>11092</th>\n",
       "      <td>ID_4115</td>\n",
       "      <td>100</td>\n",
       "      <td>50</td>\n",
       "      <td>3.1</td>\n",
       "      <td>24</td>\n",
       "      <td>9</td>\n",
       "      <td>30 minutes</td>\n",
       "    </tr>\n",
       "    <tr>\n",
       "      <th>11093</th>\n",
       "      <td>ID_4417</td>\n",
       "      <td>100</td>\n",
       "      <td>50</td>\n",
       "      <td>3.6</td>\n",
       "      <td>244</td>\n",
       "      <td>123</td>\n",
       "      <td>30 minutes</td>\n",
       "    </tr>\n",
       "  </tbody>\n",
       "</table>\n",
       "<p>11090 rows × 7 columns</p>\n",
       "</div>"
      ],
      "text/plain": [
       "      Restaurant  Average_Cost_Clean  Minimum_Order_Clean  Rating_Clean  \\\n",
       "0        ID_6321                 200                   50           3.5   \n",
       "1        ID_2882                 100                   50           3.5   \n",
       "2        ID_1595                 150                   50           3.6   \n",
       "3        ID_5929                 250                   99           3.7   \n",
       "4        ID_6123                 200                   99           3.2   \n",
       "...          ...                 ...                  ...           ...   \n",
       "11089    ID_8067                 250                   50           4.2   \n",
       "11090    ID_4620                 100                   50           3.6   \n",
       "11091    ID_3392                 100                   50           3.5   \n",
       "11092    ID_4115                 100                   50           3.1   \n",
       "11093    ID_4417                 100                   50           3.6   \n",
       "\n",
       "       Votes_Clean  Reviews_Clean Delivery_Time  \n",
       "0               12              4    30 minutes  \n",
       "1               11              4    30 minutes  \n",
       "2               99             30    65 minutes  \n",
       "3              176             95    30 minutes  \n",
       "4              521            235    65 minutes  \n",
       "...            ...            ...           ...  \n",
       "11089          326            189    30 minutes  \n",
       "11090           36             16    30 minutes  \n",
       "11091           45             18    30 minutes  \n",
       "11092           24              9    30 minutes  \n",
       "11093          244            123    30 minutes  \n",
       "\n",
       "[11090 rows x 7 columns]"
      ]
     },
     "execution_count": 75,
     "metadata": {},
     "output_type": "execute_result"
    }
   ],
   "source": [
    "train_sample"
   ]
  },
  {
   "cell_type": "code",
   "execution_count": 76,
   "id": "a90d5182",
   "metadata": {},
   "outputs": [
    {
     "data": {
      "text/html": [
       "<div>\n",
       "<style scoped>\n",
       "    .dataframe tbody tr th:only-of-type {\n",
       "        vertical-align: middle;\n",
       "    }\n",
       "\n",
       "    .dataframe tbody tr th {\n",
       "        vertical-align: top;\n",
       "    }\n",
       "\n",
       "    .dataframe thead th {\n",
       "        text-align: right;\n",
       "    }\n",
       "</style>\n",
       "<table border=\"1\" class=\"dataframe\">\n",
       "  <thead>\n",
       "    <tr style=\"text-align: right;\">\n",
       "      <th></th>\n",
       "      <th>Restaurant</th>\n",
       "      <th>Average_Cost_Clean</th>\n",
       "      <th>Minimum_Order_Clean</th>\n",
       "      <th>Rating_Clean</th>\n",
       "      <th>Votes_Clean</th>\n",
       "      <th>Reviews_Clean</th>\n",
       "    </tr>\n",
       "  </thead>\n",
       "  <tbody>\n",
       "    <tr>\n",
       "      <th>0</th>\n",
       "      <td>ID_2842</td>\n",
       "      <td>350</td>\n",
       "      <td>50</td>\n",
       "      <td>4.2</td>\n",
       "      <td>361</td>\n",
       "      <td>225</td>\n",
       "    </tr>\n",
       "    <tr>\n",
       "      <th>1</th>\n",
       "      <td>ID_730</td>\n",
       "      <td>100</td>\n",
       "      <td>50</td>\n",
       "      <td>3.6</td>\n",
       "      <td>226</td>\n",
       "      <td>111</td>\n",
       "    </tr>\n",
       "    <tr>\n",
       "      <th>2</th>\n",
       "      <td>ID_4620</td>\n",
       "      <td>100</td>\n",
       "      <td>50</td>\n",
       "      <td>3.6</td>\n",
       "      <td>36</td>\n",
       "      <td>16</td>\n",
       "    </tr>\n",
       "    <tr>\n",
       "      <th>3</th>\n",
       "      <td>ID_5470</td>\n",
       "      <td>200</td>\n",
       "      <td>50</td>\n",
       "      <td>3.6</td>\n",
       "      <td>66</td>\n",
       "      <td>33</td>\n",
       "    </tr>\n",
       "    <tr>\n",
       "      <th>4</th>\n",
       "      <td>ID_3249</td>\n",
       "      <td>150</td>\n",
       "      <td>50</td>\n",
       "      <td>2.9</td>\n",
       "      <td>38</td>\n",
       "      <td>14</td>\n",
       "    </tr>\n",
       "    <tr>\n",
       "      <th>...</th>\n",
       "      <td>...</td>\n",
       "      <td>...</td>\n",
       "      <td>...</td>\n",
       "      <td>...</td>\n",
       "      <td>...</td>\n",
       "      <td>...</td>\n",
       "    </tr>\n",
       "    <tr>\n",
       "      <th>2769</th>\n",
       "      <td>ID_6342</td>\n",
       "      <td>100</td>\n",
       "      <td>50</td>\n",
       "      <td>3.6</td>\n",
       "      <td>226</td>\n",
       "      <td>111</td>\n",
       "    </tr>\n",
       "    <tr>\n",
       "      <th>2770</th>\n",
       "      <td>ID_8495</td>\n",
       "      <td>250</td>\n",
       "      <td>50</td>\n",
       "      <td>3.1</td>\n",
       "      <td>5</td>\n",
       "      <td>1</td>\n",
       "    </tr>\n",
       "    <tr>\n",
       "      <th>2771</th>\n",
       "      <td>ID_7122</td>\n",
       "      <td>150</td>\n",
       "      <td>50</td>\n",
       "      <td>3.0</td>\n",
       "      <td>16</td>\n",
       "      <td>1</td>\n",
       "    </tr>\n",
       "    <tr>\n",
       "      <th>2772</th>\n",
       "      <td>ID_2475</td>\n",
       "      <td>100</td>\n",
       "      <td>99</td>\n",
       "      <td>3.0</td>\n",
       "      <td>7</td>\n",
       "      <td>2</td>\n",
       "    </tr>\n",
       "    <tr>\n",
       "      <th>2773</th>\n",
       "      <td>ID_1595</td>\n",
       "      <td>150</td>\n",
       "      <td>50</td>\n",
       "      <td>3.6</td>\n",
       "      <td>99</td>\n",
       "      <td>30</td>\n",
       "    </tr>\n",
       "  </tbody>\n",
       "</table>\n",
       "<p>2774 rows × 6 columns</p>\n",
       "</div>"
      ],
      "text/plain": [
       "     Restaurant  Average_Cost_Clean  Minimum_Order_Clean  Rating_Clean  \\\n",
       "0       ID_2842                 350                   50           4.2   \n",
       "1        ID_730                 100                   50           3.6   \n",
       "2       ID_4620                 100                   50           3.6   \n",
       "3       ID_5470                 200                   50           3.6   \n",
       "4       ID_3249                 150                   50           2.9   \n",
       "...         ...                 ...                  ...           ...   \n",
       "2769    ID_6342                 100                   50           3.6   \n",
       "2770    ID_8495                 250                   50           3.1   \n",
       "2771    ID_7122                 150                   50           3.0   \n",
       "2772    ID_2475                 100                   99           3.0   \n",
       "2773    ID_1595                 150                   50           3.6   \n",
       "\n",
       "      Votes_Clean  Reviews_Clean  \n",
       "0             361            225  \n",
       "1             226            111  \n",
       "2              36             16  \n",
       "3              66             33  \n",
       "4              38             14  \n",
       "...           ...            ...  \n",
       "2769          226            111  \n",
       "2770            5              1  \n",
       "2771           16              1  \n",
       "2772            7              2  \n",
       "2773           99             30  \n",
       "\n",
       "[2774 rows x 6 columns]"
      ]
     },
     "execution_count": 76,
     "metadata": {},
     "output_type": "execute_result"
    }
   ],
   "source": [
    "test_sample"
   ]
  },
  {
   "cell_type": "code",
   "execution_count": 77,
   "id": "ea277658",
   "metadata": {},
   "outputs": [
    {
     "data": {
      "text/plain": [
       "0        FTI College, Law College Road, Pune\n",
       "1                       Sector 3, Marathalli\n",
       "2                             Mumbai Central\n",
       "3                            Sector 1, Noida\n",
       "4         Rmz Centennial, I Gate, Whitefield\n",
       "                        ...                 \n",
       "11089          BTM Layout 1, Electronic City\n",
       "11090                       Sector 14, Noida\n",
       "11091                               Majestic\n",
       "11092                   Sector 3, Marathalli\n",
       "11093                     Sector 63A,Gurgaon\n",
       "Name: Location, Length: 11090, dtype: object"
      ]
     },
     "execution_count": 77,
     "metadata": {},
     "output_type": "execute_result"
    }
   ],
   "source": [
    "train[\"Location\"]"
   ]
  },
  {
   "cell_type": "code",
   "execution_count": 78,
   "id": "6994f024",
   "metadata": {},
   "outputs": [],
   "source": [
    "# Next - Split Location and Cusinies Column Into Multiple Columns On The Basis Of Items"
   ]
  },
  {
   "cell_type": "code",
   "execution_count": 79,
   "id": "52781d70",
   "metadata": {},
   "outputs": [],
   "source": [
    "def split_and_create_columns(df, column_name):\n",
    "\n",
    "    # Copy the input DataFrame to avoid modifying the original DataFrame\n",
    "    new_df = df.copy()\n",
    "\n",
    "    # Split the specified column by comma\n",
    "    new_df[column_name] = new_df[column_name].str.split(',')\n",
    "\n",
    "    # Calculate the maximum number of details in any row\n",
    "    max_details = new_df[column_name].apply(len).max()\n",
    "\n",
    "    # Create new columns dynamically based on the maximum number of details\n",
    "    new_columns = [f'{column_name}_{i+1}' for i in range(max_details)]\n",
    "\n",
    "    # Expand the column into separate columns\n",
    "    new_df[new_columns] = pd.DataFrame(new_df[column_name].tolist(), index=new_df.index)\n",
    "\n",
    "    return new_df[new_columns]"
   ]
  },
  {
   "cell_type": "code",
   "execution_count": 80,
   "id": "34d14d12",
   "metadata": {},
   "outputs": [],
   "source": [
    "# Split Location Column For Both Data Sets"
   ]
  },
  {
   "cell_type": "code",
   "execution_count": 81,
   "id": "9b91ed9c",
   "metadata": {},
   "outputs": [],
   "source": [
    "Train_Location_Split = split_and_create_columns(train, 'Location')\n",
    "Test_Location_Split = split_and_create_columns(test, 'Location')"
   ]
  },
  {
   "cell_type": "code",
   "execution_count": 82,
   "id": "7323570e",
   "metadata": {},
   "outputs": [
    {
     "data": {
      "text/html": [
       "<div>\n",
       "<style scoped>\n",
       "    .dataframe tbody tr th:only-of-type {\n",
       "        vertical-align: middle;\n",
       "    }\n",
       "\n",
       "    .dataframe tbody tr th {\n",
       "        vertical-align: top;\n",
       "    }\n",
       "\n",
       "    .dataframe thead th {\n",
       "        text-align: right;\n",
       "    }\n",
       "</style>\n",
       "<table border=\"1\" class=\"dataframe\">\n",
       "  <thead>\n",
       "    <tr style=\"text-align: right;\">\n",
       "      <th></th>\n",
       "      <th>Location_1</th>\n",
       "      <th>Location_2</th>\n",
       "      <th>Location_3</th>\n",
       "      <th>Location_4</th>\n",
       "    </tr>\n",
       "  </thead>\n",
       "  <tbody>\n",
       "    <tr>\n",
       "      <th>0</th>\n",
       "      <td>FTI College</td>\n",
       "      <td>Law College Road</td>\n",
       "      <td>Pune</td>\n",
       "      <td>None</td>\n",
       "    </tr>\n",
       "    <tr>\n",
       "      <th>1</th>\n",
       "      <td>Sector 3</td>\n",
       "      <td>Marathalli</td>\n",
       "      <td>None</td>\n",
       "      <td>None</td>\n",
       "    </tr>\n",
       "    <tr>\n",
       "      <th>2</th>\n",
       "      <td>Mumbai Central</td>\n",
       "      <td>None</td>\n",
       "      <td>None</td>\n",
       "      <td>None</td>\n",
       "    </tr>\n",
       "    <tr>\n",
       "      <th>3</th>\n",
       "      <td>Sector 1</td>\n",
       "      <td>Noida</td>\n",
       "      <td>None</td>\n",
       "      <td>None</td>\n",
       "    </tr>\n",
       "    <tr>\n",
       "      <th>4</th>\n",
       "      <td>Rmz Centennial</td>\n",
       "      <td>I Gate</td>\n",
       "      <td>Whitefield</td>\n",
       "      <td>None</td>\n",
       "    </tr>\n",
       "    <tr>\n",
       "      <th>...</th>\n",
       "      <td>...</td>\n",
       "      <td>...</td>\n",
       "      <td>...</td>\n",
       "      <td>...</td>\n",
       "    </tr>\n",
       "    <tr>\n",
       "      <th>11089</th>\n",
       "      <td>BTM Layout 1</td>\n",
       "      <td>Electronic City</td>\n",
       "      <td>None</td>\n",
       "      <td>None</td>\n",
       "    </tr>\n",
       "    <tr>\n",
       "      <th>11090</th>\n",
       "      <td>Sector 14</td>\n",
       "      <td>Noida</td>\n",
       "      <td>None</td>\n",
       "      <td>None</td>\n",
       "    </tr>\n",
       "    <tr>\n",
       "      <th>11091</th>\n",
       "      <td>Majestic</td>\n",
       "      <td>None</td>\n",
       "      <td>None</td>\n",
       "      <td>None</td>\n",
       "    </tr>\n",
       "    <tr>\n",
       "      <th>11092</th>\n",
       "      <td>Sector 3</td>\n",
       "      <td>Marathalli</td>\n",
       "      <td>None</td>\n",
       "      <td>None</td>\n",
       "    </tr>\n",
       "    <tr>\n",
       "      <th>11093</th>\n",
       "      <td>Sector 63A</td>\n",
       "      <td>Gurgaon</td>\n",
       "      <td>None</td>\n",
       "      <td>None</td>\n",
       "    </tr>\n",
       "  </tbody>\n",
       "</table>\n",
       "<p>11090 rows × 4 columns</p>\n",
       "</div>"
      ],
      "text/plain": [
       "           Location_1         Location_2   Location_3 Location_4\n",
       "0         FTI College   Law College Road         Pune       None\n",
       "1            Sector 3         Marathalli         None       None\n",
       "2      Mumbai Central               None         None       None\n",
       "3            Sector 1              Noida         None       None\n",
       "4      Rmz Centennial             I Gate   Whitefield       None\n",
       "...               ...                ...          ...        ...\n",
       "11089    BTM Layout 1    Electronic City         None       None\n",
       "11090       Sector 14              Noida         None       None\n",
       "11091        Majestic               None         None       None\n",
       "11092        Sector 3         Marathalli         None       None\n",
       "11093      Sector 63A            Gurgaon         None       None\n",
       "\n",
       "[11090 rows x 4 columns]"
      ]
     },
     "execution_count": 82,
     "metadata": {},
     "output_type": "execute_result"
    }
   ],
   "source": [
    "Train_Location_Split"
   ]
  },
  {
   "cell_type": "code",
   "execution_count": 83,
   "id": "4f93969f",
   "metadata": {},
   "outputs": [
    {
     "data": {
      "text/html": [
       "<div>\n",
       "<style scoped>\n",
       "    .dataframe tbody tr th:only-of-type {\n",
       "        vertical-align: middle;\n",
       "    }\n",
       "\n",
       "    .dataframe tbody tr th {\n",
       "        vertical-align: top;\n",
       "    }\n",
       "\n",
       "    .dataframe thead th {\n",
       "        text-align: right;\n",
       "    }\n",
       "</style>\n",
       "<table border=\"1\" class=\"dataframe\">\n",
       "  <thead>\n",
       "    <tr style=\"text-align: right;\">\n",
       "      <th></th>\n",
       "      <th>Location_1</th>\n",
       "      <th>Location_2</th>\n",
       "      <th>Location_3</th>\n",
       "      <th>Location_4</th>\n",
       "    </tr>\n",
       "  </thead>\n",
       "  <tbody>\n",
       "    <tr>\n",
       "      <th>0</th>\n",
       "      <td>Mico Layout</td>\n",
       "      <td>Stage 2</td>\n",
       "      <td>BTM Layout</td>\n",
       "      <td>Bangalore</td>\n",
       "    </tr>\n",
       "    <tr>\n",
       "      <th>1</th>\n",
       "      <td>Mico Layout</td>\n",
       "      <td>Stage 2</td>\n",
       "      <td>BTM Layout</td>\n",
       "      <td>Bangalore</td>\n",
       "    </tr>\n",
       "    <tr>\n",
       "      <th>2</th>\n",
       "      <td>Sector 1</td>\n",
       "      <td>Noida</td>\n",
       "      <td>None</td>\n",
       "      <td>None</td>\n",
       "    </tr>\n",
       "    <tr>\n",
       "      <th>3</th>\n",
       "      <td>Babarpur</td>\n",
       "      <td>New Delhi</td>\n",
       "      <td>Delhi</td>\n",
       "      <td>None</td>\n",
       "    </tr>\n",
       "    <tr>\n",
       "      <th>4</th>\n",
       "      <td>Sector 1</td>\n",
       "      <td>Noida</td>\n",
       "      <td>None</td>\n",
       "      <td>None</td>\n",
       "    </tr>\n",
       "    <tr>\n",
       "      <th>...</th>\n",
       "      <td>...</td>\n",
       "      <td>...</td>\n",
       "      <td>...</td>\n",
       "      <td>...</td>\n",
       "    </tr>\n",
       "    <tr>\n",
       "      <th>2769</th>\n",
       "      <td>Delhi University-GTB Nagar</td>\n",
       "      <td>None</td>\n",
       "      <td>None</td>\n",
       "      <td>None</td>\n",
       "    </tr>\n",
       "    <tr>\n",
       "      <th>2770</th>\n",
       "      <td>Mico Layout</td>\n",
       "      <td>Stage 2</td>\n",
       "      <td>BTM Layout</td>\n",
       "      <td>Bangalore</td>\n",
       "    </tr>\n",
       "    <tr>\n",
       "      <th>2771</th>\n",
       "      <td>Noorkhan Bazaar</td>\n",
       "      <td>Malakpet</td>\n",
       "      <td>Hyderabad</td>\n",
       "      <td>None</td>\n",
       "    </tr>\n",
       "    <tr>\n",
       "      <th>2772</th>\n",
       "      <td>D-Block</td>\n",
       "      <td>Sector 63</td>\n",
       "      <td>Noida</td>\n",
       "      <td>None</td>\n",
       "    </tr>\n",
       "    <tr>\n",
       "      <th>2773</th>\n",
       "      <td>Dockyard Road</td>\n",
       "      <td>Mumbai CST Area</td>\n",
       "      <td>None</td>\n",
       "      <td>None</td>\n",
       "    </tr>\n",
       "  </tbody>\n",
       "</table>\n",
       "<p>2774 rows × 4 columns</p>\n",
       "</div>"
      ],
      "text/plain": [
       "                      Location_1        Location_2   Location_3 Location_4\n",
       "0                    Mico Layout           Stage 2   BTM Layout  Bangalore\n",
       "1                    Mico Layout           Stage 2   BTM Layout  Bangalore\n",
       "2                       Sector 1             Noida         None       None\n",
       "3                       Babarpur         New Delhi        Delhi       None\n",
       "4                       Sector 1             Noida         None       None\n",
       "...                          ...               ...          ...        ...\n",
       "2769  Delhi University-GTB Nagar              None         None       None\n",
       "2770                 Mico Layout           Stage 2   BTM Layout  Bangalore\n",
       "2771             Noorkhan Bazaar          Malakpet    Hyderabad       None\n",
       "2772                     D-Block         Sector 63        Noida       None\n",
       "2773               Dockyard Road   Mumbai CST Area         None       None\n",
       "\n",
       "[2774 rows x 4 columns]"
      ]
     },
     "execution_count": 83,
     "metadata": {},
     "output_type": "execute_result"
    }
   ],
   "source": [
    "Test_Location_Split"
   ]
  },
  {
   "cell_type": "code",
   "execution_count": 84,
   "id": "90bbbae8",
   "metadata": {},
   "outputs": [],
   "source": [
    "# Split Cuisines Column For Both Data Sets"
   ]
  },
  {
   "cell_type": "code",
   "execution_count": 85,
   "id": "b07ec629",
   "metadata": {},
   "outputs": [],
   "source": [
    "Train_Cuisines_Split = split_and_create_columns(train, 'Cuisines')\n",
    "Test_Cuisines_Split = split_and_create_columns(test, 'Cuisines')"
   ]
  },
  {
   "cell_type": "code",
   "execution_count": 86,
   "id": "95aa0c4d",
   "metadata": {},
   "outputs": [
    {
     "data": {
      "text/html": [
       "<div>\n",
       "<style scoped>\n",
       "    .dataframe tbody tr th:only-of-type {\n",
       "        vertical-align: middle;\n",
       "    }\n",
       "\n",
       "    .dataframe tbody tr th {\n",
       "        vertical-align: top;\n",
       "    }\n",
       "\n",
       "    .dataframe thead th {\n",
       "        text-align: right;\n",
       "    }\n",
       "</style>\n",
       "<table border=\"1\" class=\"dataframe\">\n",
       "  <thead>\n",
       "    <tr style=\"text-align: right;\">\n",
       "      <th></th>\n",
       "      <th>Cuisines_1</th>\n",
       "      <th>Cuisines_2</th>\n",
       "      <th>Cuisines_3</th>\n",
       "      <th>Cuisines_4</th>\n",
       "      <th>Cuisines_5</th>\n",
       "      <th>Cuisines_6</th>\n",
       "      <th>Cuisines_7</th>\n",
       "      <th>Cuisines_8</th>\n",
       "    </tr>\n",
       "  </thead>\n",
       "  <tbody>\n",
       "    <tr>\n",
       "      <th>0</th>\n",
       "      <td>Fast Food</td>\n",
       "      <td>Rolls</td>\n",
       "      <td>Burger</td>\n",
       "      <td>Salad</td>\n",
       "      <td>Wraps</td>\n",
       "      <td>None</td>\n",
       "      <td>None</td>\n",
       "      <td>None</td>\n",
       "    </tr>\n",
       "    <tr>\n",
       "      <th>1</th>\n",
       "      <td>Ice Cream</td>\n",
       "      <td>Desserts</td>\n",
       "      <td>None</td>\n",
       "      <td>None</td>\n",
       "      <td>None</td>\n",
       "      <td>None</td>\n",
       "      <td>None</td>\n",
       "      <td>None</td>\n",
       "    </tr>\n",
       "    <tr>\n",
       "      <th>2</th>\n",
       "      <td>Italian</td>\n",
       "      <td>Street Food</td>\n",
       "      <td>Fast Food</td>\n",
       "      <td>None</td>\n",
       "      <td>None</td>\n",
       "      <td>None</td>\n",
       "      <td>None</td>\n",
       "      <td>None</td>\n",
       "    </tr>\n",
       "    <tr>\n",
       "      <th>3</th>\n",
       "      <td>Mughlai</td>\n",
       "      <td>North Indian</td>\n",
       "      <td>Chinese</td>\n",
       "      <td>None</td>\n",
       "      <td>None</td>\n",
       "      <td>None</td>\n",
       "      <td>None</td>\n",
       "      <td>None</td>\n",
       "    </tr>\n",
       "    <tr>\n",
       "      <th>4</th>\n",
       "      <td>Cafe</td>\n",
       "      <td>Beverages</td>\n",
       "      <td>None</td>\n",
       "      <td>None</td>\n",
       "      <td>None</td>\n",
       "      <td>None</td>\n",
       "      <td>None</td>\n",
       "      <td>None</td>\n",
       "    </tr>\n",
       "    <tr>\n",
       "      <th>...</th>\n",
       "      <td>...</td>\n",
       "      <td>...</td>\n",
       "      <td>...</td>\n",
       "      <td>...</td>\n",
       "      <td>...</td>\n",
       "      <td>...</td>\n",
       "      <td>...</td>\n",
       "      <td>...</td>\n",
       "    </tr>\n",
       "    <tr>\n",
       "      <th>11089</th>\n",
       "      <td>Tibetan</td>\n",
       "      <td>Chinese</td>\n",
       "      <td>Continental</td>\n",
       "      <td>Momos</td>\n",
       "      <td>None</td>\n",
       "      <td>None</td>\n",
       "      <td>None</td>\n",
       "      <td>None</td>\n",
       "    </tr>\n",
       "    <tr>\n",
       "      <th>11090</th>\n",
       "      <td>Fast Food</td>\n",
       "      <td>None</td>\n",
       "      <td>None</td>\n",
       "      <td>None</td>\n",
       "      <td>None</td>\n",
       "      <td>None</td>\n",
       "      <td>None</td>\n",
       "      <td>None</td>\n",
       "    </tr>\n",
       "    <tr>\n",
       "      <th>11091</th>\n",
       "      <td>South Indian</td>\n",
       "      <td>Chinese</td>\n",
       "      <td>North Indian</td>\n",
       "      <td>None</td>\n",
       "      <td>None</td>\n",
       "      <td>None</td>\n",
       "      <td>None</td>\n",
       "      <td>None</td>\n",
       "    </tr>\n",
       "    <tr>\n",
       "      <th>11092</th>\n",
       "      <td>North Indian</td>\n",
       "      <td>None</td>\n",
       "      <td>None</td>\n",
       "      <td>None</td>\n",
       "      <td>None</td>\n",
       "      <td>None</td>\n",
       "      <td>None</td>\n",
       "      <td>None</td>\n",
       "    </tr>\n",
       "    <tr>\n",
       "      <th>11093</th>\n",
       "      <td>North Indian</td>\n",
       "      <td>None</td>\n",
       "      <td>None</td>\n",
       "      <td>None</td>\n",
       "      <td>None</td>\n",
       "      <td>None</td>\n",
       "      <td>None</td>\n",
       "      <td>None</td>\n",
       "    </tr>\n",
       "  </tbody>\n",
       "</table>\n",
       "<p>11090 rows × 8 columns</p>\n",
       "</div>"
      ],
      "text/plain": [
       "         Cuisines_1     Cuisines_2     Cuisines_3 Cuisines_4 Cuisines_5  \\\n",
       "0         Fast Food          Rolls         Burger      Salad      Wraps   \n",
       "1         Ice Cream       Desserts           None       None       None   \n",
       "2           Italian    Street Food      Fast Food       None       None   \n",
       "3           Mughlai   North Indian        Chinese       None       None   \n",
       "4              Cafe      Beverages           None       None       None   \n",
       "...             ...            ...            ...        ...        ...   \n",
       "11089       Tibetan        Chinese    Continental      Momos       None   \n",
       "11090     Fast Food           None           None       None       None   \n",
       "11091  South Indian        Chinese   North Indian       None       None   \n",
       "11092  North Indian           None           None       None       None   \n",
       "11093  North Indian           None           None       None       None   \n",
       "\n",
       "      Cuisines_6 Cuisines_7 Cuisines_8  \n",
       "0           None       None       None  \n",
       "1           None       None       None  \n",
       "2           None       None       None  \n",
       "3           None       None       None  \n",
       "4           None       None       None  \n",
       "...          ...        ...        ...  \n",
       "11089       None       None       None  \n",
       "11090       None       None       None  \n",
       "11091       None       None       None  \n",
       "11092       None       None       None  \n",
       "11093       None       None       None  \n",
       "\n",
       "[11090 rows x 8 columns]"
      ]
     },
     "execution_count": 86,
     "metadata": {},
     "output_type": "execute_result"
    }
   ],
   "source": [
    "Train_Cuisines_Split"
   ]
  },
  {
   "cell_type": "code",
   "execution_count": 87,
   "id": "3859315f",
   "metadata": {},
   "outputs": [
    {
     "data": {
      "text/html": [
       "<div>\n",
       "<style scoped>\n",
       "    .dataframe tbody tr th:only-of-type {\n",
       "        vertical-align: middle;\n",
       "    }\n",
       "\n",
       "    .dataframe tbody tr th {\n",
       "        vertical-align: top;\n",
       "    }\n",
       "\n",
       "    .dataframe thead th {\n",
       "        text-align: right;\n",
       "    }\n",
       "</style>\n",
       "<table border=\"1\" class=\"dataframe\">\n",
       "  <thead>\n",
       "    <tr style=\"text-align: right;\">\n",
       "      <th></th>\n",
       "      <th>Cuisines_1</th>\n",
       "      <th>Cuisines_2</th>\n",
       "      <th>Cuisines_3</th>\n",
       "      <th>Cuisines_4</th>\n",
       "      <th>Cuisines_5</th>\n",
       "      <th>Cuisines_6</th>\n",
       "      <th>Cuisines_7</th>\n",
       "      <th>Cuisines_8</th>\n",
       "    </tr>\n",
       "  </thead>\n",
       "  <tbody>\n",
       "    <tr>\n",
       "      <th>0</th>\n",
       "      <td>North Indian</td>\n",
       "      <td>Chinese</td>\n",
       "      <td>Assamese</td>\n",
       "      <td>None</td>\n",
       "      <td>None</td>\n",
       "      <td>None</td>\n",
       "      <td>None</td>\n",
       "      <td>None</td>\n",
       "    </tr>\n",
       "    <tr>\n",
       "      <th>1</th>\n",
       "      <td>Biryani</td>\n",
       "      <td>Kebab</td>\n",
       "      <td>None</td>\n",
       "      <td>None</td>\n",
       "      <td>None</td>\n",
       "      <td>None</td>\n",
       "      <td>None</td>\n",
       "      <td>None</td>\n",
       "    </tr>\n",
       "    <tr>\n",
       "      <th>2</th>\n",
       "      <td>Fast Food</td>\n",
       "      <td>None</td>\n",
       "      <td>None</td>\n",
       "      <td>None</td>\n",
       "      <td>None</td>\n",
       "      <td>None</td>\n",
       "      <td>None</td>\n",
       "      <td>None</td>\n",
       "    </tr>\n",
       "    <tr>\n",
       "      <th>3</th>\n",
       "      <td>Mithai</td>\n",
       "      <td>North Indian</td>\n",
       "      <td>Chinese</td>\n",
       "      <td>Fast Food</td>\n",
       "      <td>South Indian</td>\n",
       "      <td>None</td>\n",
       "      <td>None</td>\n",
       "      <td>None</td>\n",
       "    </tr>\n",
       "    <tr>\n",
       "      <th>4</th>\n",
       "      <td>Chinese</td>\n",
       "      <td>Fast Food</td>\n",
       "      <td>None</td>\n",
       "      <td>None</td>\n",
       "      <td>None</td>\n",
       "      <td>None</td>\n",
       "      <td>None</td>\n",
       "      <td>None</td>\n",
       "    </tr>\n",
       "    <tr>\n",
       "      <th>...</th>\n",
       "      <td>...</td>\n",
       "      <td>...</td>\n",
       "      <td>...</td>\n",
       "      <td>...</td>\n",
       "      <td>...</td>\n",
       "      <td>...</td>\n",
       "      <td>...</td>\n",
       "      <td>...</td>\n",
       "    </tr>\n",
       "    <tr>\n",
       "      <th>2769</th>\n",
       "      <td>Fast Food</td>\n",
       "      <td>Chinese</td>\n",
       "      <td>None</td>\n",
       "      <td>None</td>\n",
       "      <td>None</td>\n",
       "      <td>None</td>\n",
       "      <td>None</td>\n",
       "      <td>None</td>\n",
       "    </tr>\n",
       "    <tr>\n",
       "      <th>2770</th>\n",
       "      <td>Continental</td>\n",
       "      <td>North Indian</td>\n",
       "      <td>Desserts</td>\n",
       "      <td>Beverages</td>\n",
       "      <td>None</td>\n",
       "      <td>None</td>\n",
       "      <td>None</td>\n",
       "      <td>None</td>\n",
       "    </tr>\n",
       "    <tr>\n",
       "      <th>2771</th>\n",
       "      <td>Andhra</td>\n",
       "      <td>South Indian</td>\n",
       "      <td>None</td>\n",
       "      <td>None</td>\n",
       "      <td>None</td>\n",
       "      <td>None</td>\n",
       "      <td>None</td>\n",
       "      <td>None</td>\n",
       "    </tr>\n",
       "    <tr>\n",
       "      <th>2772</th>\n",
       "      <td>Bakery</td>\n",
       "      <td>None</td>\n",
       "      <td>None</td>\n",
       "      <td>None</td>\n",
       "      <td>None</td>\n",
       "      <td>None</td>\n",
       "      <td>None</td>\n",
       "      <td>None</td>\n",
       "    </tr>\n",
       "    <tr>\n",
       "      <th>2773</th>\n",
       "      <td>Italian</td>\n",
       "      <td>Street Food</td>\n",
       "      <td>Fast Food</td>\n",
       "      <td>None</td>\n",
       "      <td>None</td>\n",
       "      <td>None</td>\n",
       "      <td>None</td>\n",
       "      <td>None</td>\n",
       "    </tr>\n",
       "  </tbody>\n",
       "</table>\n",
       "<p>2774 rows × 8 columns</p>\n",
       "</div>"
      ],
      "text/plain": [
       "        Cuisines_1     Cuisines_2  Cuisines_3  Cuisines_4     Cuisines_5  \\\n",
       "0     North Indian        Chinese    Assamese        None           None   \n",
       "1          Biryani          Kebab        None        None           None   \n",
       "2        Fast Food           None        None        None           None   \n",
       "3           Mithai   North Indian     Chinese   Fast Food   South Indian   \n",
       "4          Chinese      Fast Food        None        None           None   \n",
       "...            ...            ...         ...         ...            ...   \n",
       "2769     Fast Food        Chinese        None        None           None   \n",
       "2770   Continental   North Indian    Desserts   Beverages           None   \n",
       "2771        Andhra   South Indian        None        None           None   \n",
       "2772        Bakery           None        None        None           None   \n",
       "2773       Italian    Street Food   Fast Food        None           None   \n",
       "\n",
       "     Cuisines_6 Cuisines_7 Cuisines_8  \n",
       "0          None       None       None  \n",
       "1          None       None       None  \n",
       "2          None       None       None  \n",
       "3          None       None       None  \n",
       "4          None       None       None  \n",
       "...         ...        ...        ...  \n",
       "2769       None       None       None  \n",
       "2770       None       None       None  \n",
       "2771       None       None       None  \n",
       "2772       None       None       None  \n",
       "2773       None       None       None  \n",
       "\n",
       "[2774 rows x 8 columns]"
      ]
     },
     "execution_count": 87,
     "metadata": {},
     "output_type": "execute_result"
    }
   ],
   "source": [
    "Test_Cuisines_Split"
   ]
  },
  {
   "cell_type": "code",
   "execution_count": 88,
   "id": "536f7789",
   "metadata": {},
   "outputs": [],
   "source": [
    "# Now concatenate \"Train_Location_Split\" and \"Train_Cuisines_Split\" with \"train_sample\"\n",
    "# & then concatenate \"Test_Location_Split\" and \"Test_Cuisines_Split\" with \"test_sample\""
   ]
  },
  {
   "cell_type": "code",
   "execution_count": 89,
   "id": "98444dec",
   "metadata": {},
   "outputs": [],
   "source": [
    "train_sample = pd.concat([train_sample, Train_Location_Split, Train_Cuisines_Split], axis=1)\n",
    "test_sample = pd.concat([test_sample, Test_Location_Split, Test_Cuisines_Split], axis=1)"
   ]
  },
  {
   "cell_type": "code",
   "execution_count": 90,
   "id": "e8cacde4",
   "metadata": {},
   "outputs": [
    {
     "data": {
      "text/html": [
       "<div>\n",
       "<style scoped>\n",
       "    .dataframe tbody tr th:only-of-type {\n",
       "        vertical-align: middle;\n",
       "    }\n",
       "\n",
       "    .dataframe tbody tr th {\n",
       "        vertical-align: top;\n",
       "    }\n",
       "\n",
       "    .dataframe thead th {\n",
       "        text-align: right;\n",
       "    }\n",
       "</style>\n",
       "<table border=\"1\" class=\"dataframe\">\n",
       "  <thead>\n",
       "    <tr style=\"text-align: right;\">\n",
       "      <th></th>\n",
       "      <th>Restaurant</th>\n",
       "      <th>Average_Cost_Clean</th>\n",
       "      <th>Minimum_Order_Clean</th>\n",
       "      <th>Rating_Clean</th>\n",
       "      <th>Votes_Clean</th>\n",
       "      <th>Reviews_Clean</th>\n",
       "      <th>Delivery_Time</th>\n",
       "      <th>Location_1</th>\n",
       "      <th>Location_2</th>\n",
       "      <th>Location_3</th>\n",
       "      <th>Location_4</th>\n",
       "      <th>Cuisines_1</th>\n",
       "      <th>Cuisines_2</th>\n",
       "      <th>Cuisines_3</th>\n",
       "      <th>Cuisines_4</th>\n",
       "      <th>Cuisines_5</th>\n",
       "      <th>Cuisines_6</th>\n",
       "      <th>Cuisines_7</th>\n",
       "      <th>Cuisines_8</th>\n",
       "    </tr>\n",
       "  </thead>\n",
       "  <tbody>\n",
       "    <tr>\n",
       "      <th>0</th>\n",
       "      <td>ID_6321</td>\n",
       "      <td>200</td>\n",
       "      <td>50</td>\n",
       "      <td>3.5</td>\n",
       "      <td>12</td>\n",
       "      <td>4</td>\n",
       "      <td>30 minutes</td>\n",
       "      <td>FTI College</td>\n",
       "      <td>Law College Road</td>\n",
       "      <td>Pune</td>\n",
       "      <td>None</td>\n",
       "      <td>Fast Food</td>\n",
       "      <td>Rolls</td>\n",
       "      <td>Burger</td>\n",
       "      <td>Salad</td>\n",
       "      <td>Wraps</td>\n",
       "      <td>None</td>\n",
       "      <td>None</td>\n",
       "      <td>None</td>\n",
       "    </tr>\n",
       "    <tr>\n",
       "      <th>1</th>\n",
       "      <td>ID_2882</td>\n",
       "      <td>100</td>\n",
       "      <td>50</td>\n",
       "      <td>3.5</td>\n",
       "      <td>11</td>\n",
       "      <td>4</td>\n",
       "      <td>30 minutes</td>\n",
       "      <td>Sector 3</td>\n",
       "      <td>Marathalli</td>\n",
       "      <td>None</td>\n",
       "      <td>None</td>\n",
       "      <td>Ice Cream</td>\n",
       "      <td>Desserts</td>\n",
       "      <td>None</td>\n",
       "      <td>None</td>\n",
       "      <td>None</td>\n",
       "      <td>None</td>\n",
       "      <td>None</td>\n",
       "      <td>None</td>\n",
       "    </tr>\n",
       "    <tr>\n",
       "      <th>2</th>\n",
       "      <td>ID_1595</td>\n",
       "      <td>150</td>\n",
       "      <td>50</td>\n",
       "      <td>3.6</td>\n",
       "      <td>99</td>\n",
       "      <td>30</td>\n",
       "      <td>65 minutes</td>\n",
       "      <td>Mumbai Central</td>\n",
       "      <td>None</td>\n",
       "      <td>None</td>\n",
       "      <td>None</td>\n",
       "      <td>Italian</td>\n",
       "      <td>Street Food</td>\n",
       "      <td>Fast Food</td>\n",
       "      <td>None</td>\n",
       "      <td>None</td>\n",
       "      <td>None</td>\n",
       "      <td>None</td>\n",
       "      <td>None</td>\n",
       "    </tr>\n",
       "    <tr>\n",
       "      <th>3</th>\n",
       "      <td>ID_5929</td>\n",
       "      <td>250</td>\n",
       "      <td>99</td>\n",
       "      <td>3.7</td>\n",
       "      <td>176</td>\n",
       "      <td>95</td>\n",
       "      <td>30 minutes</td>\n",
       "      <td>Sector 1</td>\n",
       "      <td>Noida</td>\n",
       "      <td>None</td>\n",
       "      <td>None</td>\n",
       "      <td>Mughlai</td>\n",
       "      <td>North Indian</td>\n",
       "      <td>Chinese</td>\n",
       "      <td>None</td>\n",
       "      <td>None</td>\n",
       "      <td>None</td>\n",
       "      <td>None</td>\n",
       "      <td>None</td>\n",
       "    </tr>\n",
       "    <tr>\n",
       "      <th>4</th>\n",
       "      <td>ID_6123</td>\n",
       "      <td>200</td>\n",
       "      <td>99</td>\n",
       "      <td>3.2</td>\n",
       "      <td>521</td>\n",
       "      <td>235</td>\n",
       "      <td>65 minutes</td>\n",
       "      <td>Rmz Centennial</td>\n",
       "      <td>I Gate</td>\n",
       "      <td>Whitefield</td>\n",
       "      <td>None</td>\n",
       "      <td>Cafe</td>\n",
       "      <td>Beverages</td>\n",
       "      <td>None</td>\n",
       "      <td>None</td>\n",
       "      <td>None</td>\n",
       "      <td>None</td>\n",
       "      <td>None</td>\n",
       "      <td>None</td>\n",
       "    </tr>\n",
       "    <tr>\n",
       "      <th>...</th>\n",
       "      <td>...</td>\n",
       "      <td>...</td>\n",
       "      <td>...</td>\n",
       "      <td>...</td>\n",
       "      <td>...</td>\n",
       "      <td>...</td>\n",
       "      <td>...</td>\n",
       "      <td>...</td>\n",
       "      <td>...</td>\n",
       "      <td>...</td>\n",
       "      <td>...</td>\n",
       "      <td>...</td>\n",
       "      <td>...</td>\n",
       "      <td>...</td>\n",
       "      <td>...</td>\n",
       "      <td>...</td>\n",
       "      <td>...</td>\n",
       "      <td>...</td>\n",
       "      <td>...</td>\n",
       "    </tr>\n",
       "    <tr>\n",
       "      <th>11089</th>\n",
       "      <td>ID_8067</td>\n",
       "      <td>250</td>\n",
       "      <td>50</td>\n",
       "      <td>4.2</td>\n",
       "      <td>326</td>\n",
       "      <td>189</td>\n",
       "      <td>30 minutes</td>\n",
       "      <td>BTM Layout 1</td>\n",
       "      <td>Electronic City</td>\n",
       "      <td>None</td>\n",
       "      <td>None</td>\n",
       "      <td>Tibetan</td>\n",
       "      <td>Chinese</td>\n",
       "      <td>Continental</td>\n",
       "      <td>Momos</td>\n",
       "      <td>None</td>\n",
       "      <td>None</td>\n",
       "      <td>None</td>\n",
       "      <td>None</td>\n",
       "    </tr>\n",
       "    <tr>\n",
       "      <th>11090</th>\n",
       "      <td>ID_4620</td>\n",
       "      <td>100</td>\n",
       "      <td>50</td>\n",
       "      <td>3.6</td>\n",
       "      <td>36</td>\n",
       "      <td>16</td>\n",
       "      <td>30 minutes</td>\n",
       "      <td>Sector 14</td>\n",
       "      <td>Noida</td>\n",
       "      <td>None</td>\n",
       "      <td>None</td>\n",
       "      <td>Fast Food</td>\n",
       "      <td>None</td>\n",
       "      <td>None</td>\n",
       "      <td>None</td>\n",
       "      <td>None</td>\n",
       "      <td>None</td>\n",
       "      <td>None</td>\n",
       "      <td>None</td>\n",
       "    </tr>\n",
       "    <tr>\n",
       "      <th>11091</th>\n",
       "      <td>ID_3392</td>\n",
       "      <td>100</td>\n",
       "      <td>50</td>\n",
       "      <td>3.5</td>\n",
       "      <td>45</td>\n",
       "      <td>18</td>\n",
       "      <td>30 minutes</td>\n",
       "      <td>Majestic</td>\n",
       "      <td>None</td>\n",
       "      <td>None</td>\n",
       "      <td>None</td>\n",
       "      <td>South Indian</td>\n",
       "      <td>Chinese</td>\n",
       "      <td>North Indian</td>\n",
       "      <td>None</td>\n",
       "      <td>None</td>\n",
       "      <td>None</td>\n",
       "      <td>None</td>\n",
       "      <td>None</td>\n",
       "    </tr>\n",
       "    <tr>\n",
       "      <th>11092</th>\n",
       "      <td>ID_4115</td>\n",
       "      <td>100</td>\n",
       "      <td>50</td>\n",
       "      <td>3.1</td>\n",
       "      <td>24</td>\n",
       "      <td>9</td>\n",
       "      <td>30 minutes</td>\n",
       "      <td>Sector 3</td>\n",
       "      <td>Marathalli</td>\n",
       "      <td>None</td>\n",
       "      <td>None</td>\n",
       "      <td>North Indian</td>\n",
       "      <td>None</td>\n",
       "      <td>None</td>\n",
       "      <td>None</td>\n",
       "      <td>None</td>\n",
       "      <td>None</td>\n",
       "      <td>None</td>\n",
       "      <td>None</td>\n",
       "    </tr>\n",
       "    <tr>\n",
       "      <th>11093</th>\n",
       "      <td>ID_4417</td>\n",
       "      <td>100</td>\n",
       "      <td>50</td>\n",
       "      <td>3.6</td>\n",
       "      <td>244</td>\n",
       "      <td>123</td>\n",
       "      <td>30 minutes</td>\n",
       "      <td>Sector 63A</td>\n",
       "      <td>Gurgaon</td>\n",
       "      <td>None</td>\n",
       "      <td>None</td>\n",
       "      <td>North Indian</td>\n",
       "      <td>None</td>\n",
       "      <td>None</td>\n",
       "      <td>None</td>\n",
       "      <td>None</td>\n",
       "      <td>None</td>\n",
       "      <td>None</td>\n",
       "      <td>None</td>\n",
       "    </tr>\n",
       "  </tbody>\n",
       "</table>\n",
       "<p>11090 rows × 19 columns</p>\n",
       "</div>"
      ],
      "text/plain": [
       "      Restaurant  Average_Cost_Clean  Minimum_Order_Clean  Rating_Clean  \\\n",
       "0        ID_6321                 200                   50           3.5   \n",
       "1        ID_2882                 100                   50           3.5   \n",
       "2        ID_1595                 150                   50           3.6   \n",
       "3        ID_5929                 250                   99           3.7   \n",
       "4        ID_6123                 200                   99           3.2   \n",
       "...          ...                 ...                  ...           ...   \n",
       "11089    ID_8067                 250                   50           4.2   \n",
       "11090    ID_4620                 100                   50           3.6   \n",
       "11091    ID_3392                 100                   50           3.5   \n",
       "11092    ID_4115                 100                   50           3.1   \n",
       "11093    ID_4417                 100                   50           3.6   \n",
       "\n",
       "       Votes_Clean  Reviews_Clean Delivery_Time      Location_1  \\\n",
       "0               12              4    30 minutes     FTI College   \n",
       "1               11              4    30 minutes        Sector 3   \n",
       "2               99             30    65 minutes  Mumbai Central   \n",
       "3              176             95    30 minutes        Sector 1   \n",
       "4              521            235    65 minutes  Rmz Centennial   \n",
       "...            ...            ...           ...             ...   \n",
       "11089          326            189    30 minutes    BTM Layout 1   \n",
       "11090           36             16    30 minutes       Sector 14   \n",
       "11091           45             18    30 minutes        Majestic   \n",
       "11092           24              9    30 minutes        Sector 3   \n",
       "11093          244            123    30 minutes      Sector 63A   \n",
       "\n",
       "              Location_2   Location_3 Location_4    Cuisines_1     Cuisines_2  \\\n",
       "0       Law College Road         Pune       None     Fast Food          Rolls   \n",
       "1             Marathalli         None       None     Ice Cream       Desserts   \n",
       "2                   None         None       None       Italian    Street Food   \n",
       "3                  Noida         None       None       Mughlai   North Indian   \n",
       "4                 I Gate   Whitefield       None          Cafe      Beverages   \n",
       "...                  ...          ...        ...           ...            ...   \n",
       "11089    Electronic City         None       None       Tibetan        Chinese   \n",
       "11090              Noida         None       None     Fast Food           None   \n",
       "11091               None         None       None  South Indian        Chinese   \n",
       "11092         Marathalli         None       None  North Indian           None   \n",
       "11093            Gurgaon         None       None  North Indian           None   \n",
       "\n",
       "          Cuisines_3 Cuisines_4 Cuisines_5 Cuisines_6 Cuisines_7 Cuisines_8  \n",
       "0             Burger      Salad      Wraps       None       None       None  \n",
       "1               None       None       None       None       None       None  \n",
       "2          Fast Food       None       None       None       None       None  \n",
       "3            Chinese       None       None       None       None       None  \n",
       "4               None       None       None       None       None       None  \n",
       "...              ...        ...        ...        ...        ...        ...  \n",
       "11089    Continental      Momos       None       None       None       None  \n",
       "11090           None       None       None       None       None       None  \n",
       "11091   North Indian       None       None       None       None       None  \n",
       "11092           None       None       None       None       None       None  \n",
       "11093           None       None       None       None       None       None  \n",
       "\n",
       "[11090 rows x 19 columns]"
      ]
     },
     "execution_count": 90,
     "metadata": {},
     "output_type": "execute_result"
    }
   ],
   "source": [
    "train_sample"
   ]
  },
  {
   "cell_type": "code",
   "execution_count": 91,
   "id": "ef3ef07d",
   "metadata": {},
   "outputs": [
    {
     "data": {
      "text/html": [
       "<div>\n",
       "<style scoped>\n",
       "    .dataframe tbody tr th:only-of-type {\n",
       "        vertical-align: middle;\n",
       "    }\n",
       "\n",
       "    .dataframe tbody tr th {\n",
       "        vertical-align: top;\n",
       "    }\n",
       "\n",
       "    .dataframe thead th {\n",
       "        text-align: right;\n",
       "    }\n",
       "</style>\n",
       "<table border=\"1\" class=\"dataframe\">\n",
       "  <thead>\n",
       "    <tr style=\"text-align: right;\">\n",
       "      <th></th>\n",
       "      <th>Restaurant</th>\n",
       "      <th>Average_Cost_Clean</th>\n",
       "      <th>Minimum_Order_Clean</th>\n",
       "      <th>Rating_Clean</th>\n",
       "      <th>Votes_Clean</th>\n",
       "      <th>Reviews_Clean</th>\n",
       "      <th>Location_1</th>\n",
       "      <th>Location_2</th>\n",
       "      <th>Location_3</th>\n",
       "      <th>Location_4</th>\n",
       "      <th>Cuisines_1</th>\n",
       "      <th>Cuisines_2</th>\n",
       "      <th>Cuisines_3</th>\n",
       "      <th>Cuisines_4</th>\n",
       "      <th>Cuisines_5</th>\n",
       "      <th>Cuisines_6</th>\n",
       "      <th>Cuisines_7</th>\n",
       "      <th>Cuisines_8</th>\n",
       "    </tr>\n",
       "  </thead>\n",
       "  <tbody>\n",
       "    <tr>\n",
       "      <th>0</th>\n",
       "      <td>ID_2842</td>\n",
       "      <td>350</td>\n",
       "      <td>50</td>\n",
       "      <td>4.2</td>\n",
       "      <td>361</td>\n",
       "      <td>225</td>\n",
       "      <td>Mico Layout</td>\n",
       "      <td>Stage 2</td>\n",
       "      <td>BTM Layout</td>\n",
       "      <td>Bangalore</td>\n",
       "      <td>North Indian</td>\n",
       "      <td>Chinese</td>\n",
       "      <td>Assamese</td>\n",
       "      <td>None</td>\n",
       "      <td>None</td>\n",
       "      <td>None</td>\n",
       "      <td>None</td>\n",
       "      <td>None</td>\n",
       "    </tr>\n",
       "    <tr>\n",
       "      <th>1</th>\n",
       "      <td>ID_730</td>\n",
       "      <td>100</td>\n",
       "      <td>50</td>\n",
       "      <td>3.6</td>\n",
       "      <td>226</td>\n",
       "      <td>111</td>\n",
       "      <td>Mico Layout</td>\n",
       "      <td>Stage 2</td>\n",
       "      <td>BTM Layout</td>\n",
       "      <td>Bangalore</td>\n",
       "      <td>Biryani</td>\n",
       "      <td>Kebab</td>\n",
       "      <td>None</td>\n",
       "      <td>None</td>\n",
       "      <td>None</td>\n",
       "      <td>None</td>\n",
       "      <td>None</td>\n",
       "      <td>None</td>\n",
       "    </tr>\n",
       "    <tr>\n",
       "      <th>2</th>\n",
       "      <td>ID_4620</td>\n",
       "      <td>100</td>\n",
       "      <td>50</td>\n",
       "      <td>3.6</td>\n",
       "      <td>36</td>\n",
       "      <td>16</td>\n",
       "      <td>Sector 1</td>\n",
       "      <td>Noida</td>\n",
       "      <td>None</td>\n",
       "      <td>None</td>\n",
       "      <td>Fast Food</td>\n",
       "      <td>None</td>\n",
       "      <td>None</td>\n",
       "      <td>None</td>\n",
       "      <td>None</td>\n",
       "      <td>None</td>\n",
       "      <td>None</td>\n",
       "      <td>None</td>\n",
       "    </tr>\n",
       "    <tr>\n",
       "      <th>3</th>\n",
       "      <td>ID_5470</td>\n",
       "      <td>200</td>\n",
       "      <td>50</td>\n",
       "      <td>3.6</td>\n",
       "      <td>66</td>\n",
       "      <td>33</td>\n",
       "      <td>Babarpur</td>\n",
       "      <td>New Delhi</td>\n",
       "      <td>Delhi</td>\n",
       "      <td>None</td>\n",
       "      <td>Mithai</td>\n",
       "      <td>North Indian</td>\n",
       "      <td>Chinese</td>\n",
       "      <td>Fast Food</td>\n",
       "      <td>South Indian</td>\n",
       "      <td>None</td>\n",
       "      <td>None</td>\n",
       "      <td>None</td>\n",
       "    </tr>\n",
       "    <tr>\n",
       "      <th>4</th>\n",
       "      <td>ID_3249</td>\n",
       "      <td>150</td>\n",
       "      <td>50</td>\n",
       "      <td>2.9</td>\n",
       "      <td>38</td>\n",
       "      <td>14</td>\n",
       "      <td>Sector 1</td>\n",
       "      <td>Noida</td>\n",
       "      <td>None</td>\n",
       "      <td>None</td>\n",
       "      <td>Chinese</td>\n",
       "      <td>Fast Food</td>\n",
       "      <td>None</td>\n",
       "      <td>None</td>\n",
       "      <td>None</td>\n",
       "      <td>None</td>\n",
       "      <td>None</td>\n",
       "      <td>None</td>\n",
       "    </tr>\n",
       "    <tr>\n",
       "      <th>...</th>\n",
       "      <td>...</td>\n",
       "      <td>...</td>\n",
       "      <td>...</td>\n",
       "      <td>...</td>\n",
       "      <td>...</td>\n",
       "      <td>...</td>\n",
       "      <td>...</td>\n",
       "      <td>...</td>\n",
       "      <td>...</td>\n",
       "      <td>...</td>\n",
       "      <td>...</td>\n",
       "      <td>...</td>\n",
       "      <td>...</td>\n",
       "      <td>...</td>\n",
       "      <td>...</td>\n",
       "      <td>...</td>\n",
       "      <td>...</td>\n",
       "      <td>...</td>\n",
       "    </tr>\n",
       "    <tr>\n",
       "      <th>2769</th>\n",
       "      <td>ID_6342</td>\n",
       "      <td>100</td>\n",
       "      <td>50</td>\n",
       "      <td>3.6</td>\n",
       "      <td>226</td>\n",
       "      <td>111</td>\n",
       "      <td>Delhi University-GTB Nagar</td>\n",
       "      <td>None</td>\n",
       "      <td>None</td>\n",
       "      <td>None</td>\n",
       "      <td>Fast Food</td>\n",
       "      <td>Chinese</td>\n",
       "      <td>None</td>\n",
       "      <td>None</td>\n",
       "      <td>None</td>\n",
       "      <td>None</td>\n",
       "      <td>None</td>\n",
       "      <td>None</td>\n",
       "    </tr>\n",
       "    <tr>\n",
       "      <th>2770</th>\n",
       "      <td>ID_8495</td>\n",
       "      <td>250</td>\n",
       "      <td>50</td>\n",
       "      <td>3.1</td>\n",
       "      <td>5</td>\n",
       "      <td>1</td>\n",
       "      <td>Mico Layout</td>\n",
       "      <td>Stage 2</td>\n",
       "      <td>BTM Layout</td>\n",
       "      <td>Bangalore</td>\n",
       "      <td>Continental</td>\n",
       "      <td>North Indian</td>\n",
       "      <td>Desserts</td>\n",
       "      <td>Beverages</td>\n",
       "      <td>None</td>\n",
       "      <td>None</td>\n",
       "      <td>None</td>\n",
       "      <td>None</td>\n",
       "    </tr>\n",
       "    <tr>\n",
       "      <th>2771</th>\n",
       "      <td>ID_7122</td>\n",
       "      <td>150</td>\n",
       "      <td>50</td>\n",
       "      <td>3.0</td>\n",
       "      <td>16</td>\n",
       "      <td>1</td>\n",
       "      <td>Noorkhan Bazaar</td>\n",
       "      <td>Malakpet</td>\n",
       "      <td>Hyderabad</td>\n",
       "      <td>None</td>\n",
       "      <td>Andhra</td>\n",
       "      <td>South Indian</td>\n",
       "      <td>None</td>\n",
       "      <td>None</td>\n",
       "      <td>None</td>\n",
       "      <td>None</td>\n",
       "      <td>None</td>\n",
       "      <td>None</td>\n",
       "    </tr>\n",
       "    <tr>\n",
       "      <th>2772</th>\n",
       "      <td>ID_2475</td>\n",
       "      <td>100</td>\n",
       "      <td>99</td>\n",
       "      <td>3.0</td>\n",
       "      <td>7</td>\n",
       "      <td>2</td>\n",
       "      <td>D-Block</td>\n",
       "      <td>Sector 63</td>\n",
       "      <td>Noida</td>\n",
       "      <td>None</td>\n",
       "      <td>Bakery</td>\n",
       "      <td>None</td>\n",
       "      <td>None</td>\n",
       "      <td>None</td>\n",
       "      <td>None</td>\n",
       "      <td>None</td>\n",
       "      <td>None</td>\n",
       "      <td>None</td>\n",
       "    </tr>\n",
       "    <tr>\n",
       "      <th>2773</th>\n",
       "      <td>ID_1595</td>\n",
       "      <td>150</td>\n",
       "      <td>50</td>\n",
       "      <td>3.6</td>\n",
       "      <td>99</td>\n",
       "      <td>30</td>\n",
       "      <td>Dockyard Road</td>\n",
       "      <td>Mumbai CST Area</td>\n",
       "      <td>None</td>\n",
       "      <td>None</td>\n",
       "      <td>Italian</td>\n",
       "      <td>Street Food</td>\n",
       "      <td>Fast Food</td>\n",
       "      <td>None</td>\n",
       "      <td>None</td>\n",
       "      <td>None</td>\n",
       "      <td>None</td>\n",
       "      <td>None</td>\n",
       "    </tr>\n",
       "  </tbody>\n",
       "</table>\n",
       "<p>2774 rows × 18 columns</p>\n",
       "</div>"
      ],
      "text/plain": [
       "     Restaurant  Average_Cost_Clean  Minimum_Order_Clean  Rating_Clean  \\\n",
       "0       ID_2842                 350                   50           4.2   \n",
       "1        ID_730                 100                   50           3.6   \n",
       "2       ID_4620                 100                   50           3.6   \n",
       "3       ID_5470                 200                   50           3.6   \n",
       "4       ID_3249                 150                   50           2.9   \n",
       "...         ...                 ...                  ...           ...   \n",
       "2769    ID_6342                 100                   50           3.6   \n",
       "2770    ID_8495                 250                   50           3.1   \n",
       "2771    ID_7122                 150                   50           3.0   \n",
       "2772    ID_2475                 100                   99           3.0   \n",
       "2773    ID_1595                 150                   50           3.6   \n",
       "\n",
       "      Votes_Clean  Reviews_Clean                  Location_1  \\\n",
       "0             361            225                 Mico Layout   \n",
       "1             226            111                 Mico Layout   \n",
       "2              36             16                    Sector 1   \n",
       "3              66             33                    Babarpur   \n",
       "4              38             14                    Sector 1   \n",
       "...           ...            ...                         ...   \n",
       "2769          226            111  Delhi University-GTB Nagar   \n",
       "2770            5              1                 Mico Layout   \n",
       "2771           16              1             Noorkhan Bazaar   \n",
       "2772            7              2                     D-Block   \n",
       "2773           99             30               Dockyard Road   \n",
       "\n",
       "            Location_2   Location_3 Location_4    Cuisines_1     Cuisines_2  \\\n",
       "0              Stage 2   BTM Layout  Bangalore  North Indian        Chinese   \n",
       "1              Stage 2   BTM Layout  Bangalore       Biryani          Kebab   \n",
       "2                Noida         None       None     Fast Food           None   \n",
       "3            New Delhi        Delhi       None        Mithai   North Indian   \n",
       "4                Noida         None       None       Chinese      Fast Food   \n",
       "...                ...          ...        ...           ...            ...   \n",
       "2769              None         None       None     Fast Food        Chinese   \n",
       "2770           Stage 2   BTM Layout  Bangalore   Continental   North Indian   \n",
       "2771          Malakpet    Hyderabad       None        Andhra   South Indian   \n",
       "2772         Sector 63        Noida       None        Bakery           None   \n",
       "2773   Mumbai CST Area         None       None       Italian    Street Food   \n",
       "\n",
       "      Cuisines_3  Cuisines_4     Cuisines_5 Cuisines_6 Cuisines_7 Cuisines_8  \n",
       "0       Assamese        None           None       None       None       None  \n",
       "1           None        None           None       None       None       None  \n",
       "2           None        None           None       None       None       None  \n",
       "3        Chinese   Fast Food   South Indian       None       None       None  \n",
       "4           None        None           None       None       None       None  \n",
       "...          ...         ...            ...        ...        ...        ...  \n",
       "2769        None        None           None       None       None       None  \n",
       "2770    Desserts   Beverages           None       None       None       None  \n",
       "2771        None        None           None       None       None       None  \n",
       "2772        None        None           None       None       None       None  \n",
       "2773   Fast Food        None           None       None       None       None  \n",
       "\n",
       "[2774 rows x 18 columns]"
      ]
     },
     "execution_count": 91,
     "metadata": {},
     "output_type": "execute_result"
    }
   ],
   "source": [
    "test_sample"
   ]
  },
  {
   "cell_type": "code",
   "execution_count": 92,
   "id": "762eaafc",
   "metadata": {},
   "outputs": [],
   "source": [
    "#Now we check relationship between columns by using pairplot"
   ]
  },
  {
   "cell_type": "code",
   "execution_count": 93,
   "id": "ab4d1c06",
   "metadata": {
    "scrolled": true
   },
   "outputs": [
    {
     "data": {
      "text/plain": [
       "<seaborn.axisgrid.PairGrid at 0x1f5fe28cbe0>"
      ]
     },
     "execution_count": 93,
     "metadata": {},
     "output_type": "execute_result"
    },
    {
     "data": {
      "image/png": "[encoded data removed]",
      "text/plain": [
       "<Figure size 1250x1250 with 30 Axes>"
      ]
     },
     "metadata": {},
     "output_type": "display_data"
    }
   ],
   "source": [
    "sns.pairplot(train_sample)"
   ]
  },
  {
   "cell_type": "code",
   "execution_count": 94,
   "id": "ec5e7db3",
   "metadata": {},
   "outputs": [
    {
     "data": {
      "text/plain": [
       "<seaborn.axisgrid.PairGrid at 0x1f5840c6220>"
      ]
     },
     "execution_count": 94,
     "metadata": {},
     "output_type": "execute_result"
    },
    {
     "data": {
      "image/png": "[encoded data removed]",
      "text/plain": [
       "<Figure size 1250x1250 with 30 Axes>"
      ]
     },
     "metadata": {},
     "output_type": "display_data"
    }
   ],
   "source": [
    "sns.pairplot(test_sample)"
   ]
  },
  {
   "cell_type": "code",
   "execution_count": 95,
   "id": "bd1b002a",
   "metadata": {},
   "outputs": [],
   "source": [
    "# Now we will check null values in both datasets and will fill it with \"NAN\""
   ]
  },
  {
   "cell_type": "code",
   "execution_count": 96,
   "id": "8ed53032",
   "metadata": {
    "scrolled": true
   },
   "outputs": [
    {
     "data": {
      "text/plain": [
       "Restaurant                 0\n",
       "Average_Cost_Clean         0\n",
       "Minimum_Order_Clean        0\n",
       "Rating_Clean               0\n",
       "Votes_Clean                0\n",
       "Reviews_Clean              0\n",
       "Delivery_Time              0\n",
       "Location_1                 0\n",
       "Location_2              1942\n",
       "Location_3              6361\n",
       "Location_4             10064\n",
       "Cuisines_1                 0\n",
       "Cuisines_2              3012\n",
       "Cuisines_3              6928\n",
       "Cuisines_4              9390\n",
       "Cuisines_5             10445\n",
       "Cuisines_6             10850\n",
       "Cuisines_7             10974\n",
       "Cuisines_8             11042\n",
       "dtype: int64"
      ]
     },
     "execution_count": 96,
     "metadata": {},
     "output_type": "execute_result"
    }
   ],
   "source": [
    "train_sample.isnull().sum()"
   ]
  },
  {
   "cell_type": "code",
   "execution_count": 97,
   "id": "cfd83330",
   "metadata": {},
   "outputs": [
    {
     "data": {
      "text/plain": [
       "Restaurant                0\n",
       "Average_Cost_Clean        0\n",
       "Minimum_Order_Clean       0\n",
       "Rating_Clean              0\n",
       "Votes_Clean               0\n",
       "Reviews_Clean             0\n",
       "Location_1                0\n",
       "Location_2              487\n",
       "Location_3             1598\n",
       "Location_4             2547\n",
       "Cuisines_1                0\n",
       "Cuisines_2              773\n",
       "Cuisines_3             1761\n",
       "Cuisines_4             2365\n",
       "Cuisines_5             2625\n",
       "Cuisines_6             2718\n",
       "Cuisines_7             2750\n",
       "Cuisines_8             2767\n",
       "dtype: int64"
      ]
     },
     "execution_count": 97,
     "metadata": {},
     "output_type": "execute_result"
    }
   ],
   "source": [
    "test_sample.isnull().sum()"
   ]
  },
  {
   "cell_type": "code",
   "execution_count": 98,
   "id": "af02a6ff",
   "metadata": {},
   "outputs": [],
   "source": [
    "# Now we will replace these null values with \"NAN\""
   ]
  },
  {
   "cell_type": "code",
   "execution_count": 99,
   "id": "191f3daf",
   "metadata": {},
   "outputs": [],
   "source": [
    "train_sample.fillna(\"NAN\", inplace = True)\n",
    "test_sample.fillna(\"NAN\", inplace = True)"
   ]
  },
  {
   "cell_type": "code",
   "execution_count": 100,
   "id": "27b6daa3",
   "metadata": {},
   "outputs": [
    {
     "data": {
      "text/plain": [
       "Restaurant             0\n",
       "Average_Cost_Clean     0\n",
       "Minimum_Order_Clean    0\n",
       "Rating_Clean           0\n",
       "Votes_Clean            0\n",
       "Reviews_Clean          0\n",
       "Delivery_Time          0\n",
       "Location_1             0\n",
       "Location_2             0\n",
       "Location_3             0\n",
       "Location_4             0\n",
       "Cuisines_1             0\n",
       "Cuisines_2             0\n",
       "Cuisines_3             0\n",
       "Cuisines_4             0\n",
       "Cuisines_5             0\n",
       "Cuisines_6             0\n",
       "Cuisines_7             0\n",
       "Cuisines_8             0\n",
       "dtype: int64"
      ]
     },
     "execution_count": 100,
     "metadata": {},
     "output_type": "execute_result"
    }
   ],
   "source": [
    "train_sample.isnull().sum()"
   ]
  },
  {
   "cell_type": "code",
   "execution_count": 101,
   "id": "26234fb2",
   "metadata": {},
   "outputs": [
    {
     "data": {
      "text/plain": [
       "Restaurant             0\n",
       "Average_Cost_Clean     0\n",
       "Minimum_Order_Clean    0\n",
       "Rating_Clean           0\n",
       "Votes_Clean            0\n",
       "Reviews_Clean          0\n",
       "Location_1             0\n",
       "Location_2             0\n",
       "Location_3             0\n",
       "Location_4             0\n",
       "Cuisines_1             0\n",
       "Cuisines_2             0\n",
       "Cuisines_3             0\n",
       "Cuisines_4             0\n",
       "Cuisines_5             0\n",
       "Cuisines_6             0\n",
       "Cuisines_7             0\n",
       "Cuisines_8             0\n",
       "dtype: int64"
      ]
     },
     "execution_count": 101,
     "metadata": {},
     "output_type": "execute_result"
    }
   ],
   "source": [
    "test_sample.isnull().sum()"
   ]
  },
  {
   "cell_type": "code",
   "execution_count": 102,
   "id": "cacfc3e8",
   "metadata": {},
   "outputs": [],
   "source": [
    "# Now we will apply Label Encoding to all non categorical columns"
   ]
  },
  {
   "cell_type": "code",
   "execution_count": 103,
   "id": "0f43c371",
   "metadata": {},
   "outputs": [],
   "source": [
    "\n",
    "from sklearn.preprocessing import LabelEncoder\n",
    "\n",
    "def label_encode_columns(df, columns_to_encode): # Replace 'df' and 'columns_to_encode' with your actual df and column names\n",
    "    label_encoder = LabelEncoder()\n",
    "    for i in columns_to_encode:\n",
    "        df[i] = label_encoder.fit_transform(df[i])\n",
    "    return df"
   ]
  },
  {
   "cell_type": "code",
   "execution_count": 104,
   "id": "7a14cbdb",
   "metadata": {},
   "outputs": [],
   "source": [
    "columns_to_encode = ['Restaurant', 'Location_1', 'Location_2', 'Location_3', 'Location_4', 'Cuisines_1', 'Cuisines_2', 'Cuisines_3', 'Cuisines_4', 'Cuisines_5', 'Cuisines_6', 'Cuisines_7', 'Cuisines_8']"
   ]
  },
  {
   "cell_type": "code",
   "execution_count": 105,
   "id": "88760cb4",
   "metadata": {},
   "outputs": [],
   "source": [
    "train_sample = label_encode_columns(train_sample, columns_to_encode)\n",
    "test_sample = label_encode_columns(test_sample, columns_to_encode)"
   ]
  },
  {
   "cell_type": "code",
   "execution_count": 106,
   "id": "327fa0fa",
   "metadata": {},
   "outputs": [],
   "source": [
    "# Now we will apply \"Label Encoding\" only for 'Delivery Time' column that is present in 'train' dataset\n",
    "\n",
    "label_encoder = LabelEncoder()\n",
    "train_sample['Delivery_Time'] = label_encoder.fit_transform(train_sample['Delivery_Time'])"
   ]
  },
  {
   "cell_type": "code",
   "execution_count": 107,
   "id": "3d203c81",
   "metadata": {},
   "outputs": [],
   "source": [
    "# Scaling All Columns Except 'Delivery_Time' For Both Datasets \"train_sample & test_sample\""
   ]
  },
  {
   "cell_type": "code",
   "execution_count": 108,
   "id": "4cbb9793",
   "metadata": {},
   "outputs": [],
   "source": [
    "# Store all columns in a variabe named 'cols' that needs to be scaled.\n",
    "\n",
    "cols = ['Restaurant', 'Average_Cost_Clean', 'Minimum_Order_Clean',\n",
    "       'Rating_Clean', 'Votes_Clean', 'Reviews_Clean', 'Location_1', 'Location_2', 'Location_3', 'Location_4', 'Cuisines_1',\n",
    "       'Cuisines_2', 'Cuisines_3', 'Cuisines_4', 'Cuisines_5', 'Cuisines_6',\n",
    "       'Cuisines_7', 'Cuisines_8']"
   ]
  },
  {
   "cell_type": "code",
   "execution_count": 109,
   "id": "671ff715",
   "metadata": {},
   "outputs": [],
   "source": [
    "from sklearn.preprocessing import StandardScaler\n",
    "\n",
    "st = StandardScaler()\n",
    "\n",
    "train_sample[cols] = st.fit_transform(train_sample[cols])\n",
    "test_sample[cols] = st.fit_transform(test_sample[cols])"
   ]
  },
  {
   "cell_type": "code",
   "execution_count": 158,
   "id": "86afe202",
   "metadata": {},
   "outputs": [],
   "source": [
    "# Training The Model Now"
   ]
  },
  {
   "cell_type": "code",
   "execution_count": 159,
   "id": "72fc5fa8",
   "metadata": {
    "scrolled": true
   },
   "outputs": [],
   "source": [
    "import xgboost as xgb\n",
    "from xgboost import XGBClassifier\n",
    "from sklearn.model_selection import train_test_split\n",
    "from sklearn.metrics import accuracy_score\n",
    "\n",
    "train, val = train_test_split(train_sample, test_size = 0.1, random_state = 1)\n",
    "\n",
    "# Spliting 'train' into features (X_train) and the target variable (y_train) \n",
    "X_train = train.drop('Delivery_Time', axis=1)  \n",
    "y_train = train['Delivery_Time']\n",
    "\n",
    "X_Val = val.drop('Delivery_Time', axis=1) \n",
    "y_Val = val['Delivery_Time']\n",
    "\n",
    "# 'test_sample' will have only features (X_test)\n",
    "X_test = test_sample  # test_sample' has the same features as 'train_sample' but without the target column ''Delivery_Time''"
   ]
  },
  {
   "cell_type": "code",
   "execution_count": 160,
   "id": "585f3ba6",
   "metadata": {},
   "outputs": [
    {
     "data": {
      "text/plain": [
       "XGBClassifier(base_score=None, booster=None, callbacks=None,\n",
       "              colsample_bylevel=None, colsample_bynode=None,\n",
       "              colsample_bytree=None, early_stopping_rounds=None,\n",
       "              enable_categorical=False, eval_metric=None, feature_types=None,\n",
       "              gamma=None, gpu_id=None, grow_policy=None, importance_type=None,\n",
       "              interaction_constraints=None, learning_rate=None, max_bin=None,\n",
       "              max_cat_threshold=None, max_cat_to_onehot=None,\n",
       "              max_delta_step=None, max_depth=None, max_leaves=None,\n",
       "              min_child_weight=None, missing=nan, monotone_constraints=None,\n",
       "              n_estimators=100, n_jobs=None, num_parallel_tree=None,\n",
       "              objective='multi:softprob', predictor=None, ...)"
      ]
     },
     "execution_count": 160,
     "metadata": {},
     "output_type": "execute_result"
    }
   ],
   "source": [
    "# Training the Model using 'train_sample'\n",
    "xgb_model = XGBClassifier()\n",
    "xgb_model.fit(X_train, y_train)"
   ]
  },
  {
   "cell_type": "code",
   "execution_count": 161,
   "id": "4d4e3322",
   "metadata": {},
   "outputs": [
    {
     "data": {
      "text/plain": [
       "0.7835888187556357"
      ]
     },
     "execution_count": 161,
     "metadata": {},
     "output_type": "execute_result"
    }
   ],
   "source": [
    "# Accuracy Score\n",
    "xgb_model.score(X_Val, y_Val)"
   ]
  },
  {
   "cell_type": "code",
   "execution_count": null,
   "id": "68d675ca",
   "metadata": {},
   "outputs": [],
   "source": []
  },
  {
   "cell_type": "code",
   "execution_count": null,
   "id": "28616011",
   "metadata": {},
   "outputs": [],
   "source": []
  },
  {
   "cell_type": "code",
   "execution_count": null,
   "id": "e13c8b47",
   "metadata": {},
   "outputs": [],
   "source": []
  },
  {
   "cell_type": "code",
   "execution_count": null,
   "id": "e3e21c9f",
   "metadata": {},
   "outputs": [],
   "source": []
  },
  {
   "cell_type": "code",
   "execution_count": null,
   "id": "fd279c0b",
   "metadata": {},
   "outputs": [],
   "source": []
  },
  {
   "cell_type": "code",
   "execution_count": null,
   "id": "dc4aa103",
   "metadata": {},
   "outputs": [],
   "source": []
  },
  {
   "cell_type": "code",
   "execution_count": null,
   "id": "8afd84ae",
   "metadata": {},
   "outputs": [],
   "source": []
  },
  {
   "cell_type": "code",
   "execution_count": null,
   "id": "32e0bc20",
   "metadata": {},
   "outputs": [],
   "source": []
  },
  {
   "cell_type": "code",
   "execution_count": null,
   "id": "74aff87a",
   "metadata": {},
   "outputs": [],
   "source": []
  },
  {
   "cell_type": "code",
   "execution_count": null,
   "id": "ee39df4a",
   "metadata": {},
   "outputs": [],
   "source": []
  },
  {
   "cell_type": "code",
   "execution_count": null,
   "id": "f5d84148",
   "metadata": {},
   "outputs": [],
   "source": []
  },
  {
   "cell_type": "code",
   "execution_count": null,
   "id": "388c569d",
   "metadata": {},
   "outputs": [],
   "source": []
  },
  {
   "cell_type": "code",
   "execution_count": null,
   "id": "24ef23ba",
   "metadata": {},
   "outputs": [],
   "source": []
  },
  {
   "cell_type": "code",
   "execution_count": null,
   "id": "75551c2f",
   "metadata": {},
   "outputs": [],
   "source": []
  },
  {
   "cell_type": "code",
   "execution_count": null,
   "id": "494b0d62",
   "metadata": {},
   "outputs": [],
   "source": []
  },
  {
   "cell_type": "code",
   "execution_count": null,
   "id": "441dbce3",
   "metadata": {},
   "outputs": [],
   "source": []
  },
  {
   "cell_type": "code",
   "execution_count": null,
   "id": "ce06e8e8",
   "metadata": {},
   "outputs": [],
   "source": []
  },
  {
   "cell_type": "code",
   "execution_count": null,
   "id": "5abd489c",
   "metadata": {},
   "outputs": [],
   "source": []
  },
  {
   "cell_type": "code",
   "execution_count": null,
   "id": "1f3cbfea",
   "metadata": {},
   "outputs": [],
   "source": []
  },
  {
   "cell_type": "code",
   "execution_count": null,
   "id": "22b98b9a",
   "metadata": {},
   "outputs": [],
   "source": []
  },
  {
   "cell_type": "code",
   "execution_count": null,
   "id": "98a9c33b",
   "metadata": {},
   "outputs": [],
   "source": []
  },
  {
   "cell_type": "code",
   "execution_count": null,
   "id": "c3f3c8f2",
   "metadata": {},
   "outputs": [],
   "source": []
  }
 ],
 "metadata": {
  "kernelspec": {
   "display_name": "Python 3 (ipykernel)",
   "language": "python",
   "name": "python3"
  },
  "language_info": {
   "codemirror_mode": {
    "name": "ipython",
    "version": 3
   },
   "file_extension": ".py",
   "mimetype": "text/x-python",
   "name": "python",
   "nbconvert_exporter": "python",
   "pygments_lexer": "ipython3",
   "version": "3.9.13"
  }
 },
 "nbformat": 4,
 "nbformat_minor": 5
}
